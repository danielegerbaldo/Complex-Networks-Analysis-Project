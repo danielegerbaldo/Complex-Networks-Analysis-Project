{
 "cells": [
  {
   "cell_type": "code",
   "execution_count": null,
   "metadata": {
    "id": "NUIs5c5YUl__",
    "outputId": "f0080048-05ad-432f-9205-731e3a832ab1"
   },
   "outputs": [],
   "source": [
    "!pip install networkx powerlaw"
   ]
  },
  {
   "cell_type": "code",
   "execution_count": null,
   "metadata": {
    "id": "MNgpV6cZhz-N"
   },
   "outputs": [],
   "source": [
    "import networkx as nx\n",
    "import matplotlib.pyplot as plt\n",
    "import statistics\n",
    "import math\n",
    "import numpy as np\n",
    "import powerlaw\n",
    "import seaborn as sns\n",
    "from collections import Counter\n",
    "from scipy.stats import norm\n",
    "from termcolor import colored, cprint"
   ]
  },
  {
   "cell_type": "code",
   "execution_count": null,
   "metadata": {
    "id": "5DZDVBDpmHlD"
   },
   "outputs": [],
   "source": [
    "MORENO_RESIDENCE_HALL_FILE = 'networks/moreno_residence_hall.txt'"
   ]
  },
  {
   "cell_type": "markdown",
   "metadata": {
    "id": "Bgv4ZppyTo9T"
   },
   "source": [
    "# Residence-Hall-Network\n",
    "\n",
    "(Directed)\n",
    "\n",
    "This directed network contains friendship ratings between 217 residents living at a residence hall located on the Australian National University campus. A node represents a person and \n",
    "an edge represents a friendship tie.  The friendships are weighted as follows from strongest to weakest tie:  5 (best friend), 4 (close friend), 3 (friend), 2, 1."
   ]
  },
  {
   "cell_type": "code",
   "execution_count": null,
   "metadata": {
    "id": "D01AFKCzjKaa",
    "outputId": "ab262d2a-4d79-490a-f54c-edbc87aaaacc"
   },
   "outputs": [],
   "source": [
    "G = nx.read_weighted_edgelist(MORENO_RESIDENCE_HALL_FILE, create_using= nx.DiGraph, nodetype=int)\n",
    "cprint(nx.info(G),'green')"
   ]
  },
  {
   "cell_type": "code",
   "execution_count": null,
   "metadata": {
    "id": "wnlzVSuXRheM"
   },
   "outputs": [],
   "source": [
    "num_nodes = G.number_of_nodes()\n",
    "num_edges = G.number_of_edges()\n",
    "nodes = G.nodes()\n",
    "edges = G.edges()"
   ]
  },
  {
   "cell_type": "markdown",
   "metadata": {
    "id": "8npUZk4kpVXx"
   },
   "source": [
    "# Degree"
   ]
  },
  {
   "cell_type": "code",
   "execution_count": null,
   "metadata": {
    "id": "d9jsZenrtb5O",
    "outputId": "7740a6cb-ad76-4244-f465-7f6b015446fe"
   },
   "outputs": [],
   "source": [
    "degrees_sequences = {'Degree sequence':[G.degree(n) for n in G.nodes],\n",
    "'Strength degree sequence':[G.degree(n, weight='weight') for n in G.nodes],\n",
    "'In degree sequence':[G.in_degree(n) for n in G.nodes],\n",
    "'Out degree sequence':[G.out_degree(n) for n in G.nodes],\n",
    "'In-Strength sequence':[G.in_degree(n, weight='weight') for n in G.nodes],\n",
    "'Out-Strength degree sequence':[G.out_degree(n, weight='weight') for n in G.nodes]}"
   ]
  },
  {
   "cell_type": "code",
   "execution_count": null,
   "metadata": {},
   "outputs": [],
   "source": [
    "def print_degree_statistics(mu_degree, median_degree, variance_degree,sigma_degree):\n",
    "    cprint('Mean degree:', 'blue', end=' ') \n",
    "    cprint(mu_degree, 'green')\n",
    "    cprint('Median degree:','blue', end=' ') \n",
    "    cprint(median_degree, 'green')\n",
    "    cprint('Max degree:', 'blue', end=' ')\n",
    "    cprint(max(degrees_sequences['Degree sequence']), 'green')\n",
    "    cprint('Variance:', 'blue', end=' ')\n",
    "    cprint(variance_degree, 'green')\n",
    "    cprint('Standard deviation:', 'blue', end=' ')\n",
    "    cprint(sigma_degree, 'green')\n",
    "    print()\n",
    "\n",
    "    highest_degree_node = max(G.nodes, key=G.degree)\n",
    "    cprint(\"Highest degree node label:\",'blue', end=' ')\n",
    "    cprint(highest_degree_node,'green')\n",
    "    cprint(\"Maximum degree\", 'blue', end=' ')\n",
    "    cprint(max(degrees_sequences['Degree sequence']),'green')\n"
   ]
  },
  {
   "cell_type": "markdown",
   "metadata": {
    "id": "uUroWqtEi4V2"
   },
   "source": [
    "## Network statistics without weight"
   ]
  },
  {
   "cell_type": "code",
   "execution_count": null,
   "metadata": {
    "id": "s5ZlsZQcpWlK",
    "outputId": "938e874a-b4ee-4850-bae8-6ad2c8054a30"
   },
   "outputs": [],
   "source": [
    "mu_degree = statistics.mean(degrees_sequences['Degree sequence'])\n",
    "median_degree = statistics.median(degrees_sequences['Degree sequence'])\n",
    "variance_degree = statistics.variance(degrees_sequences['Degree sequence'])\n",
    "sigma_degree = statistics.stdev(degrees_sequences['Degree sequence'])\n",
    "\n",
    "print_degree_statistics(mu_degree, median_degree, variance_degree,sigma_degree)"
   ]
  },
  {
   "cell_type": "markdown",
   "metadata": {
    "id": "uUroWqtEi4V2"
   },
   "source": [
    "## Network statistics with weight"
   ]
  },
  {
   "cell_type": "code",
   "execution_count": null,
   "metadata": {
    "id": "s5ZlsZQcpWlK",
    "outputId": "938e874a-b4ee-4850-bae8-6ad2c8054a30"
   },
   "outputs": [],
   "source": [
    "mu_degree = statistics.mean(degrees_sequences['Strength degree sequence'])\n",
    "median_degree = statistics.median(degrees_sequences['Strength degree sequence'])\n",
    "variance_degree = statistics.variance(degrees_sequences['Strength degree sequence'])\n",
    "sigma_degree = statistics.stdev(degrees_sequences['Strength degree sequence'])\n",
    "\n",
    "print_degree_statistics(mu_degree, median_degree, variance_degree,sigma_degree)"
   ]
  },
  {
   "cell_type": "markdown",
   "metadata": {
    "id": "YqoSHlPDjFYD"
   },
   "source": [
    "## Degree distribution"
   ]
  },
  {
   "cell_type": "markdown",
   "metadata": {
    "id": "hv-Up5PEsIeY"
   },
   "source": [
    "### Frequency"
   ]
  },
  {
   "cell_type": "code",
   "execution_count": null,
   "metadata": {},
   "outputs": [],
   "source": [
    "degree_map = {}\n",
    "for k in degrees_sequences.keys():\n",
    "    degree_counts = Counter(degrees_sequences[k])\n",
    "    plot_x = list(np.arange(min(degree_counts.keys()), max(degree_counts.keys())+1))\n",
    "    plot_y = [degree_counts.get(x, 0) for x in plot_x]\n",
    "    degree_map[k] = { 'x': plot_x, 'y': plot_y}\n",
    "\n",
    "titles = list(degrees_sequences.keys())\n",
    "\n",
    "fig_degree, axes = plt.subplots(nrows=3, ncols=2)\n",
    "for i, ax in enumerate(axes.flatten()):\n",
    "    #ax.bar(degree_map[titles[i]][0],degree_map[titles[i]][1])\n",
    "    sns.histplot(ax=ax, data=degrees_sequences[titles[i]], kde=True, stat='frequency', bins=degree_map[titles[i]]['x'])\n",
    "    ax.set_title(titles[i],fontdict= { 'fontsize': 16, 'fontweight':'bold'})\n",
    "    ax.set_xlabel(\"Degree k\")\n",
    "    ax.set_ylabel(\"Frequency\")\n",
    "\n",
    "fig_degree.figure.set_size_inches((30,20))"
   ]
  },
  {
   "cell_type": "markdown",
   "metadata": {},
   "source": [
    "### Probability"
   ]
  },
  {
   "cell_type": "code",
   "execution_count": null,
   "metadata": {},
   "outputs": [],
   "source": [
    "def get_degree_probability(degree_counts, min_degree, max_degree):\n",
    "  degree_prob = {}\n",
    "\n",
    "  for degree in np.arange(min_degree, max_degree + 1):\n",
    "    if degree in degree_counts:\n",
    "      num_nodes_degree = degree_counts[degree]\n",
    "      prob = num_nodes_degree/num_nodes\n",
    "      degree_prob[degree] = prob\n",
    "    else:\n",
    "      degree_prob[degree] = 0\n",
    "  \n",
    "  return degree_prob\n",
    "\n",
    "\n",
    "\n",
    "fig_prob, axes = plt.subplots(nrows=3, ncols=2)\n",
    "for i, ax in enumerate(axes.flatten()):\n",
    "    #ax.bar(degree_map[titles[i]][0],degree_map[titles[i]][1])\n",
    "    degree_counts = Counter(degrees_sequences[titles[i]])\n",
    "    degree_probability = get_degree_probability(degree_counts,min(degree_counts.keys()), max(degree_counts.keys()))\n",
    "    sns.lineplot(ax=ax, data=degree_probability)\n",
    "    ax.set_title(titles[i],fontdict= { 'fontsize': 16, 'fontweight':'bold'})\n",
    "    ax.set_xlabel(\"Degree k\")\n",
    "    ax.set_ylabel(\"Probability\")\n",
    "\n",
    "fig_prob.figure.set_size_inches((30,20))  \n"
   ]
  },
  {
   "cell_type": "markdown",
   "metadata": {
    "id": "jzQ3DUaXnJf-"
   },
   "source": [
    "# Power Law and Scale Free Regime"
   ]
  },
  {
   "cell_type": "code",
   "execution_count": null,
   "metadata": {},
   "outputs": [],
   "source": [
    "# value of cdf between one, two\n",
    "# and three S.D. around the mean\n",
    "one_sd = norm.cdf(sigma_degree, mu_degree, sigma_degree) - norm.cdf(-sigma_degree, mu_degree, sigma_degree)\n",
    "two_sd = norm.cdf(2 * sigma_degree, mu_degree, sigma_degree) - norm.cdf(-2 * sigma_degree, mu_degree, sigma_degree)\n",
    "three_sd = norm.cdf(3 * sigma_degree, mu_degree, sigma_degree) - norm.cdf(-3 * sigma_degree, mu_degree, sigma_degree)\n",
    " \n",
    "# printing the value of fractions\n",
    "# within each band\n",
    "cprint(\"Fraction of values within one SD:\", 'blue', end=' ')\n",
    "cprint(round(one_sd,2),'green')\n",
    "cprint(\"Fraction of values within two SD:\", 'blue', end=' ')\n",
    "cprint(round(two_sd,2), 'green')\n",
    "cprint(\"Fraction of values within three SD:\", 'blue', end=' ') \n",
    "cprint(round(three_sd,2), \"green\")\n",
    "\n",
    "if(one_sd==0.68 and two_sd==0.95 and three_sd==0.99):\n",
    "    cprint('Bell shape distribution.', \"green\")\n",
    "else:\n",
    "    cprint('Doesn\\'t fit Bell shape distribution.', \"yellow\")"
   ]
  },
  {
   "cell_type": "code",
   "execution_count": null,
   "metadata": {},
   "outputs": [],
   "source": [
    "fit = powerlaw.Fit(degrees_sequences['Degree sequence'], xmin=28) \n",
    "\n",
    "print(fit.power_law.alpha)\n",
    "print(fit.power_law.xmin)\n",
    "\n",
    "\n",
    "fig2 = fit.plot_pdf(color='b', linewidth=2)\n",
    "fig3 = fit.power_law.plot_pdf(color='g', linestyle='--', ax=fig2)\n",
    "fig3.legend([\"Probability density function\",\"power law fit\"])\n",
    "\n",
    "R, p = fit.distribution_compare('power_law', 'exponential', normalized_ratio=True)\n",
    "print (R, p)\n",
    "\n",
    "plt.figure(figsize=(10, 6))\n",
    "fit.distribution_compare('power_law', 'lognormal')\n",
    "fig4 = fit.plot_ccdf(linewidth=3, color='black')\n",
    "fit.power_law.plot_ccdf(ax=fig4, color='r', linestyle='--') #powerlaw\n",
    "fit.lognormal.plot_ccdf(ax=fig4, color='g', linestyle='--') #lognormal\n",
    "fit.stretched_exponential.plot_ccdf(ax=fig4, color='b', linestyle='--') #stretched_exponential\n",
    "fig4.legend([\"Probability density function\",\"power law fit\", \"lognormal\", \"stretched exponential\"])"
   ]
  },
  {
   "cell_type": "markdown",
   "metadata": {
    "id": "3IWJ0jttb5M9"
   },
   "source": [
    "# Distance"
   ]
  },
  {
   "cell_type": "markdown",
   "metadata": {
    "id": "ThwpKGfxp2_V"
   },
   "source": [
    "## Average shortest path length"
   ]
  },
  {
   "cell_type": "code",
   "execution_count": null,
   "metadata": {
    "id": "9SJ0xveKp860"
   },
   "outputs": [],
   "source": [
    "avg_short_path = nx.average_shortest_path_length(G)\n",
    "cprint(\"Average shortest path length: \", 'blue', end=' ')\n",
    "cprint(round(avg_short_path,2), 'green')\n",
    "\n",
    "if(math.isclose(math.log(G.number_of_nodes(),10),avg_short_path,abs_tol=0.5)):\n",
    "    cprint(\"Small-wordl\", 'yellow')\n",
    "else:\n",
    "    cprint(\"NOT Small-wordl \", 'yellow')\n"
   ]
  },
  {
   "cell_type": "markdown",
   "metadata": {
    "id": "VF-KDnaA0RlM"
   },
   "source": [
    "## Shortest path length distribution"
   ]
  },
  {
   "cell_type": "code",
   "execution_count": null,
   "metadata": {
    "id": "Jljr3Ec_utyV"
   },
   "outputs": [],
   "source": [
    "shortest_path_lengths = dict(nx.shortest_path_length(G))\n",
    "#counting how many paths have certain length\n",
    "shortest_length_counts = Counter()\n",
    "for i in range(num_nodes):\n",
    "    if(i!=0):\n",
    "        shortest_length_counts.update(Counter(shortest_path_lengths[i].values()))"
   ]
  },
  {
   "cell_type": "code",
   "execution_count": null,
   "metadata": {
    "id": "-STr3JJ0xKvC"
   },
   "outputs": [],
   "source": [
    "#shortest path length minimo e massimo\n",
    "min_length, max_length = min(shortest_length_counts.keys()), max(shortest_length_counts.keys())\n",
    "\n",
    "#asse x: shortest path length\n",
    "shortest_length_plot_x = list(range(min_length, max_length + 1))\n",
    "\n",
    "#asse y: num of paths\n",
    "shortest_length_plot_y = [shortest_length_counts.get(x, 0) for x in shortest_length_plot_x]\n",
    "\n",
    "plt.bar(shortest_length_plot_x, shortest_length_plot_y)\n",
    "\n",
    "plt.xlabel(\"Shortest path length\")\n",
    "plt.ylabel(\"Number of paths\")"
   ]
  },
  {
   "cell_type": "markdown",
   "metadata": {
    "id": "eLij74Pxmijj"
   },
   "source": [
    "Function that returns the probability that a path has a certain length:"
   ]
  },
  {
   "cell_type": "code",
   "execution_count": null,
   "metadata": {
    "id": "2DoAYtSFfbSE"
   },
   "outputs": [],
   "source": [
    "def get_shortest_path_length_probability(shortest_length_counts, min_length, max_length):\n",
    "  length_prob = {}\n",
    "  num_path = sum(shortest_length_counts.values())\n",
    "\n",
    "  for length in range(min_length, max_length + 1):\n",
    "    if length in shortest_length_counts:\n",
    "      num_path_length = shortest_length_counts[length]\n",
    "      prob = num_path_length/num_path\n",
    "      length_prob[length] = prob\n",
    "    else:\n",
    "      length_prob[length] = 0\n",
    "  \n",
    "  return length_prob"
   ]
  },
  {
   "cell_type": "code",
   "execution_count": null,
   "metadata": {
    "id": "jOk54y4Kgzif"
   },
   "outputs": [],
   "source": [
    "length_probability = get_shortest_path_length_probability(shortest_length_counts, min_length, max_length)\n",
    "\n",
    "shortest_length_plot_y_prob = [length_probability[x] for x in shortest_length_plot_x]\n",
    "\n",
    "plt.plot(shortest_length_plot_x, shortest_length_plot_y_prob)\n",
    "plt.xlabel(\"Shortest path length\")\n",
    "plt.ylabel(\"Shortest path length probability\")"
   ]
  },
  {
   "cell_type": "markdown",
   "metadata": {
    "id": "19Gu9qEH0Fxt"
   },
   "source": [
    "# Diameter"
   ]
  },
  {
   "cell_type": "markdown",
   "metadata": {
    "id": "vOKRFHV9m7Hw"
   },
   "source": [
    "Diameter of the largest strongly connected component:"
   ]
  },
  {
   "cell_type": "code",
   "execution_count": null,
   "metadata": {
    "id": "jH0PoyrtyJlR"
   },
   "outputs": [],
   "source": [
    "strongly_components = list(nx.strongly_connected_components(G))\n",
    "largest_strongly = max(strongly_components, key=len)\n",
    "diameter = nx.diameter(G.subgraph(largest_strongly))"
   ]
  },
  {
   "cell_type": "code",
   "execution_count": null,
   "metadata": {
    "id": "_HSGkwop0fdS"
   },
   "outputs": [],
   "source": [
    "cprint(\"Diameter:\", 'blue', end=' ')\n",
    "cprint(diameter, 'green')"
   ]
  },
  {
   "cell_type": "markdown",
   "metadata": {},
   "source": [
    "# Clustering coefficient"
   ]
  },
  {
   "cell_type": "markdown",
   "metadata": {},
   "source": [
    "## Triangle"
   ]
  },
  {
   "cell_type": "markdown",
   "metadata": {},
   "source": [
    "Number of triangles that include a node as a vertex.<br>\n",
    "Graph is trasformed to undirected.<br>\n",
    "When calculating the number of triangles for the whole graph, each triangle is counted 3 times, one for each node.<br>\n",
    "Self loops are ignored."
   ]
  },
  {
   "cell_type": "code",
   "execution_count": null,
   "metadata": {},
   "outputs": [],
   "source": [
    "triangles = nx.triangles(G.to_undirected())\n",
    "num_triangles = sum(triangles.values())\n",
    "cprint(\"Triangle counts:\", 'blue', end=' ')\n",
    "cprint(int(num_triangles/3), 'green')"
   ]
  },
  {
   "cell_type": "code",
   "execution_count": null,
   "metadata": {},
   "outputs": [],
   "source": [
    "clustering_coefficient = nx.clustering(G)\n",
    "weighted_clustering_coefficient = nx.clustering(G, weight='weight')"
   ]
  },
  {
   "cell_type": "code",
   "execution_count": null,
   "metadata": {},
   "outputs": [],
   "source": [
    "#Creating figure area\n",
    "fig_clustering, axes = plt.subplots(nrows=1, ncols=2)\n",
    "#Clustering min max\n",
    "min_clustering, max_clustering = min(clustering_coefficient.keys()), max(clustering_coefficient.keys())\n",
    "clustering_plot_x = list(range(min_clustering, max_clustering + 1))\n",
    "clustering_plot_y = [clustering_coefficient[key] for key in clustering_plot_x]\n",
    "axes[0].bar(clustering_plot_x, clustering_plot_y)\n",
    "axes[0].set_xlabel('Node label')\n",
    "axes[0].set_ylabel('Clustering coefficient')\n",
    "axes[0].set_title('Unweighted',fontdict= { 'fontsize': 16, 'fontweight':'bold'})\n",
    "#Weighted clustering min and max\n",
    "min_clustering, max_clustering = min(weighted_clustering_coefficient.keys()), max(weighted_clustering_coefficient.keys())\n",
    "clustering_plot_x = list(range(min_clustering, max_clustering + 1))\n",
    "clustering_plot_y = [weighted_clustering_coefficient[key] for key in clustering_plot_x]\n",
    "axes[1].bar(clustering_plot_x, clustering_plot_y)\n",
    "axes[1].set_xlabel('Node label')\n",
    "axes[1].set_ylabel('Weighted Clustering coefficient')\n",
    "axes[1].set_title('Weighted',fontdict= { 'fontsize': 16, 'fontweight':'bold'})\n",
    "fig_clustering.figure.set_size_inches((15,5))"
   ]
  }
 ],
 "metadata": {
  "interpreter": {
   "hash": "f8ae09881bbebee938be0caa45ef175a1c6065d325cf171942f9a51ab4cc4cd6"
  },
  "kernelspec": {
   "display_name": "Python 3.8.12 64-bit ('base': conda)",
   "name": "python3"
  },
  "language_info": {
   "codemirror_mode": {
    "name": "ipython",
    "version": 3
   },
   "file_extension": ".py",
   "mimetype": "text/x-python",
   "name": "python",
   "nbconvert_exporter": "python",
   "pygments_lexer": "ipython3",
   "version": "3.8.12"
  }
 },
 "nbformat": 4,
 "nbformat_minor": 1
}
