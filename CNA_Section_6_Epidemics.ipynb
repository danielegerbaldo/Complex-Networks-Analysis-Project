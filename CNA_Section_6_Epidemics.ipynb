{
 "cells": [
  {
   "cell_type": "code",
   "execution_count": 2,
   "metadata": {},
   "outputs": [
    {
     "name": "stdout",
     "output_type": "stream",
     "text": [
      "Requirement already satisfied: EoN in c:\\users\\daniele\\anaconda3\\lib\\site-packages (1.1)\n",
      "Requirement already satisfied: networkx in c:\\users\\daniele\\anaconda3\\lib\\site-packages (from EoN) (2.6.3)\n",
      "Requirement already satisfied: matplotlib in c:\\users\\daniele\\anaconda3\\lib\\site-packages (from EoN) (3.4.2)\n",
      "Requirement already satisfied: scipy in c:\\users\\daniele\\anaconda3\\lib\\site-packages (from EoN) (1.7.1)\n",
      "Requirement already satisfied: numpy in c:\\users\\daniele\\anaconda3\\lib\\site-packages (from EoN) (1.21.2)\n",
      "Requirement already satisfied: pillow>=6.2.0 in c:\\users\\daniele\\anaconda3\\lib\\site-packages (from matplotlib->EoN) (8.3.1)\n",
      "Requirement already satisfied: cycler>=0.10 in c:\\users\\daniele\\anaconda3\\lib\\site-packages (from matplotlib->EoN) (0.10.0)\n",
      "Requirement already satisfied: python-dateutil>=2.7 in c:\\users\\daniele\\anaconda3\\lib\\site-packages (from matplotlib->EoN) (2.8.2)\n",
      "Requirement already satisfied: kiwisolver>=1.0.1 in c:\\users\\daniele\\anaconda3\\lib\\site-packages (from matplotlib->EoN) (1.3.1)\n",
      "Requirement already satisfied: pyparsing>=2.2.1 in c:\\users\\daniele\\anaconda3\\lib\\site-packages (from matplotlib->EoN) (2.4.7)\n",
      "Requirement already satisfied: six in c:\\users\\daniele\\anaconda3\\lib\\site-packages (from cycler>=0.10->matplotlib->EoN) (1.16.0)\n"
     ]
    }
   ],
   "source": [
    "!pip install EoN"
   ]
  },
  {
   "cell_type": "code",
   "execution_count": 3,
   "metadata": {
    "id": "MNgpV6cZhz-N"
   },
   "outputs": [],
   "source": [
    "import networkx as nx\n",
    "import matplotlib.pyplot as plt\n",
    "from scipy.integrate import odeint\n",
    "import statistics\n",
    "import sys\n",
    "import random\n",
    "import math\n",
    "import EoN\n",
    "import numpy as np\n",
    "import powerlaw\n",
    "import pandas as pd\n",
    "import seaborn as sns\n",
    "from itertools import chain, combinations\n",
    "from scipy.cluster.hierarchy import dendrogram\n",
    "from collections import Counter\n",
    "from scipy.stats import norm\n",
    "from termcolor import colored, cprint\n",
    "from matplotlib.patches import Rectangle"
   ]
  },
  {
   "cell_type": "code",
   "execution_count": 4,
   "metadata": {
    "id": "5DZDVBDpmHlD"
   },
   "outputs": [],
   "source": [
    "MORENO_RESIDENCE_HALL_FILE = 'networks/moreno_residence_hall.txt'"
   ]
  },
  {
   "cell_type": "markdown",
   "metadata": {
    "id": "Bgv4ZppyTo9T"
   },
   "source": [
    "# Residence-Hall-Network\n",
    "\n",
    "(Directed)\n",
    "\n",
    "This directed network contains friendship ratings between 217 residents living at a residence hall located on the Australian National University campus. A node represents a person and \n",
    "an edge represents a friendship tie.  The friendships are weighted as follows from strongest to weakest tie:  5 (best friend), 4 (close friend), 3 (friend), 2, 1."
   ]
  },
  {
   "cell_type": "code",
   "execution_count": 5,
   "metadata": {
    "id": "D01AFKCzjKaa",
    "outputId": "ab262d2a-4d79-490a-f54c-edbc87aaaacc"
   },
   "outputs": [
    {
     "name": "stdout",
     "output_type": "stream",
     "text": [
      "\u001b[32mDiGraph with 217 nodes and 2672 edges\u001b[0m\n"
     ]
    }
   ],
   "source": [
    "G = nx.read_weighted_edgelist(MORENO_RESIDENCE_HALL_FILE, create_using= nx.DiGraph, nodetype=int)\n",
    "cprint(nx.info(G),'green')"
   ]
  },
  {
   "cell_type": "code",
   "execution_count": 6,
   "metadata": {
    "id": "wnlzVSuXRheM"
   },
   "outputs": [],
   "source": [
    "num_nodes = G.number_of_nodes()\n",
    "num_edges = G.number_of_edges()\n",
    "nodes = G.nodes()\n",
    "edges = G.edges()"
   ]
  },
  {
   "cell_type": "markdown",
   "metadata": {},
   "source": [
    "# Utility functions"
   ]
  },
  {
   "cell_type": "code",
   "execution_count": 7,
   "metadata": {},
   "outputs": [],
   "source": [
    "def check_small_wordl(G_truth,G):\n",
    "    #average shoart path length (for small world property)\n",
    "    avg_short_path = nx.average_shortest_path_length(G_truth)\n",
    "    avg_short_path_G = nx.average_shortest_path_length(G)\n",
    "    cprint(\"Average shortest path length Original network: \", 'blue', end=' ')\n",
    "    cprint(round(avg_short_path,2), 'green')\n",
    "    cprint(\"Average shortest path length Random network: \", 'blue', end=' ')\n",
    "    cprint(round(avg_short_path_G,2), 'green')\n",
    "\n",
    "\n",
    "    if(math.isclose(math.log(G.number_of_nodes(),10),avg_short_path,abs_tol=0.5)):\n",
    "        cprint(\"Small-wordl\", 'yellow')\n",
    "    else:\n",
    "        cprint(\"NOT Small-wordl \", 'yellow')\n",
    "\n",
    "    avg_clustering = nx.average_clustering(G_truth)\n",
    "    avg_clustering_G = nx.average_clustering(G)\n",
    "    cprint(\"Average Clustering Original Network: \", 'blue', end=' ')\n",
    "    cprint(round(avg_clustering,2), 'green')\n",
    "    cprint(\"Average Clustering Random network:\", 'blue', end=' ')\n",
    "    cprint(round(avg_clustering_G,2), 'green')\n"
   ]
  },
  {
   "cell_type": "code",
   "execution_count": 8,
   "metadata": {},
   "outputs": [],
   "source": [
    "def draw_graph(G,pos):\n",
    "    plt.figure(figsize = (100, 100))\n",
    "    nx.draw(G,node_color='#add8e6', node_size=8000,arrowsize=40, width=2.0, pos=pos)\n",
    "    nx.draw_networkx_labels(G, font_size=30, pos=pos)\n",
    "    plt.plot()"
   ]
  },
  {
   "cell_type": "code",
   "execution_count": 9,
   "metadata": {
    "id": "d9jsZenrtb5O",
    "outputId": "7740a6cb-ad76-4244-f465-7f6b015446fe"
   },
   "outputs": [],
   "source": [
    "def get_degrees_sequences(G,directed):\n",
    "     if(directed):\n",
    "          return {'Degree sequence':[G.degree(n) for n in G.nodes],\n",
    "          'In degree sequence':[G.in_degree(n) for n in G.nodes],\n",
    "          'Out degree sequence':[G.out_degree(n) for n in G.nodes]}\n",
    "     else:\n",
    "          return {'Degree sequence':[G.degree(n) for n in G.nodes]}     "
   ]
  },
  {
   "cell_type": "code",
   "execution_count": 10,
   "metadata": {},
   "outputs": [],
   "source": [
    "def print_degree_statistics(G,directed):\n",
    "    degree_sequence = get_degrees_sequences(G,directed)['Degree sequence']\n",
    "    mu_degree = statistics.mean(degree_sequence)\n",
    "    median_degree = statistics.median(degree_sequence)\n",
    "    variance_degree = statistics.variance(degree_sequence)\n",
    "    sigma_degree = statistics.stdev(degree_sequence)\n",
    "    cprint('Mean degree:', 'blue', end=' ') \n",
    "    cprint(mu_degree, 'green')\n",
    "    cprint('Median degree:','blue', end=' ') \n",
    "    cprint(median_degree, 'green')\n",
    "    cprint('Max degree:', 'blue', end=' ')\n",
    "    cprint(max(degree_sequence), 'green')\n",
    "    cprint('Variance:', 'blue', end=' ')\n",
    "    cprint(variance_degree, 'green')\n",
    "    cprint('Standard deviation:', 'blue', end=' ')\n",
    "    cprint(sigma_degree, 'green')\n",
    "    print()\n",
    "\n",
    "    highest_degree_node = max(G.nodes, key=G.degree)\n",
    "    cprint(\"Highest degree node label:\",'blue', end=' ')\n",
    "    cprint(highest_degree_node,'green')\n",
    "    cprint(\"Maximum degree\", 'blue', end=' ')\n",
    "    cprint(max(degree_sequence),'green')\n"
   ]
  },
  {
   "cell_type": "code",
   "execution_count": 11,
   "metadata": {},
   "outputs": [],
   "source": [
    "def plot_degree_sequence(degrees_sequences,directed):\n",
    "    degree_map = {}\n",
    "    for k in degrees_sequences.keys():\n",
    "        degree_counts = Counter(degrees_sequences[k])\n",
    "        plot_x = list(np.arange(min(degree_counts.keys()), max(degree_counts.keys())+1))\n",
    "        plot_y = [degree_counts.get(x, 0) for x in plot_x]\n",
    "        degree_map[k] = { 'x': plot_x, 'y': plot_y}\n",
    "\n",
    "    titles = list(degrees_sequences.keys())\n",
    "\n",
    "    if(directed):\n",
    "        fig_degree, axes = plt.subplots(nrows=3, ncols=1)\n",
    "        \n",
    "        for i, ax in enumerate(axes.flatten()):\n",
    "            #ax.bar(degree_map[titles[i]][0],degree_map[titles[i]][1])\n",
    "            sns.histplot(ax=ax, data=degrees_sequences[titles[i]], kde=True, stat='frequency', bins=degree_map[titles[i]]['x'])\n",
    "            ax.set_title(titles[i],fontdict= { 'fontsize': 16, 'fontweight':'bold'})\n",
    "            ax.set_xlabel(\"Degree k\")\n",
    "            ax.set_ylabel(\"Frequency\")\n",
    "        \n",
    "        fig_degree.figure.set_size_inches((30,20))    \n",
    "    else:\n",
    "        fig_degree, ax = plt.subplots()\n",
    "        sns.histplot(ax=ax, data=degrees_sequences[titles[0]], kde=True, stat='frequency', bins=degree_map[titles[0]]['x'])\n",
    "        ax.set_title(titles[0],fontdict= { 'fontsize': 16, 'fontweight':'bold'})\n",
    "        ax.set_xlabel(\"Degree k\")\n",
    "        ax.set_ylabel(\"Frequency\")"
   ]
  },
  {
   "cell_type": "code",
   "execution_count": 12,
   "metadata": {},
   "outputs": [],
   "source": [
    "def get_degree_probability(degree_counts, min_degree, max_degree):\n",
    "  degree_prob = {}\n",
    "\n",
    "  for degree in np.arange(min_degree, max_degree + 1):\n",
    "    if degree in degree_counts:\n",
    "      num_nodes_degree = degree_counts[degree]\n",
    "      prob = num_nodes_degree/num_nodes\n",
    "      degree_prob[degree] = prob\n",
    "    else:\n",
    "      degree_prob[degree] = 0\n",
    "  \n",
    "  return degree_prob\n",
    "\n",
    "def plot_degree_probability(degrees_sequences,directed):\n",
    "  titles = list(degrees_sequences.keys())\n",
    "\n",
    "  if(directed):\n",
    "    fig_prob, axes = plt.subplots(nrows=3, ncols=1)\n",
    "\n",
    "    for i, ax in enumerate(axes.flatten()):\n",
    "      #ax.bar(degree_map[titles[i]][0],degree_map[titles[i]][1])\n",
    "      degree_counts = Counter(degrees_sequences[titles[i]])\n",
    "      degree_probability = get_degree_probability(degree_counts,min(degree_counts.keys()), max(degree_counts.keys()))\n",
    "      sns.lineplot(ax=ax, data=degree_probability)\n",
    "      ax.set_title(titles[i],fontdict= { 'fontsize': 16, 'fontweight':'bold'})\n",
    "      ax.set_xlabel(\"Degree k\")\n",
    "      ax.set_ylabel(\"Probability\")\n",
    "    \n",
    "    fig_prob.figure.set_size_inches((30,20))     \n",
    "  else:\n",
    "    fig_prob, ax = plt.subplots()\n",
    "\n",
    "    degree_counts = Counter(degrees_sequences[titles[0]])\n",
    "    degree_probability = get_degree_probability(degree_counts,min(degree_counts.keys()), max(degree_counts.keys()))\n",
    "    sns.lineplot(ax=ax, data=degree_probability)\n",
    "    ax.set_title(titles[0],fontdict= { 'fontsize': 16, 'fontweight':'bold'})\n",
    "    ax.set_xlabel(\"Degree k\")\n",
    "    ax.set_ylabel(\"Probability\")"
   ]
  },
  {
   "cell_type": "markdown",
   "metadata": {},
   "source": [
    "# SIR"
   ]
  },
  {
   "cell_type": "code",
   "execution_count": 13,
   "metadata": {},
   "outputs": [],
   "source": [
    "#G = nx.configuration_model([1,5,10]*100000)\n",
    "initial_size = 20\n",
    "gamma = 1.\n",
    "tau = 0.3\n",
    "sir_data = EoN.fast_SIR(G, tau, gamma,\n",
    "                            initial_infecteds = range(1,initial_size), return_full_data=True, tmax = 40)\n",
    "\n",
    "ani = sir_data.animate()\n",
    "ani.save('SIR.mp4', fps=5, extra_args=['-vcodec', 'libx264'])\n"
   ]
  }
 ],
 "metadata": {
  "interpreter": {
   "hash": "f8ae09881bbebee938be0caa45ef175a1c6065d325cf171942f9a51ab4cc4cd6"
  },
  "kernelspec": {
   "display_name": "Python 3.8.12 64-bit ('base': conda)",
   "name": "python3"
  },
  "language_info": {
   "codemirror_mode": {
    "name": "ipython",
    "version": 3
   },
   "file_extension": ".py",
   "mimetype": "text/x-python",
   "name": "python",
   "nbconvert_exporter": "python",
   "pygments_lexer": "ipython3",
   "version": "3.8.12"
  }
 },
 "nbformat": 4,
 "nbformat_minor": 1
}
