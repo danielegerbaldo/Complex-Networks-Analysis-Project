{
 "cells": [
  {
   "cell_type": "code",
   "execution_count": null,
   "metadata": {
    "id": "NUIs5c5YUl__",
    "outputId": "f0080048-05ad-432f-9205-731e3a832ab1"
   },
   "outputs": [],
   "source": [
    "!pip install networkx powerlaw"
   ]
  },
  {
   "cell_type": "code",
   "execution_count": null,
   "metadata": {
    "id": "MNgpV6cZhz-N"
   },
   "outputs": [],
   "source": [
    "import networkx as nx\n",
    "import matplotlib.pyplot as plt\n",
    "import statistics\n",
    "import sys\n",
    "import random\n",
    "import math\n",
    "import numpy as np\n",
    "import powerlaw\n",
    "import pandas as pd\n",
    "import seaborn as sns\n",
    "from itertools import chain, combinations\n",
    "from scipy.cluster.hierarchy import dendrogram\n",
    "from collections import Counter\n",
    "from scipy.stats import norm\n",
    "from termcolor import colored, cprint\n",
    "from matplotlib.patches import Rectangle"
   ]
  },
  {
   "cell_type": "code",
   "execution_count": null,
   "metadata": {
    "id": "5DZDVBDpmHlD"
   },
   "outputs": [],
   "source": [
    "MORENO_RESIDENCE_HALL_FILE = 'networks/moreno_residence_hall.txt'"
   ]
  },
  {
   "cell_type": "markdown",
   "metadata": {
    "id": "Bgv4ZppyTo9T"
   },
   "source": [
    "# Residence-Hall-Network\n",
    "\n",
    "(Directed)\n",
    "\n",
    "This directed network contains friendship ratings between 217 residents living at a residence hall located on the Australian National University campus. A node represents a person and \n",
    "an edge represents a friendship tie.  The friendships are weighted as follows from strongest to weakest tie:  5 (best friend), 4 (close friend), 3 (friend), 2, 1."
   ]
  },
  {
   "cell_type": "code",
   "execution_count": null,
   "metadata": {
    "id": "D01AFKCzjKaa",
    "outputId": "ab262d2a-4d79-490a-f54c-edbc87aaaacc"
   },
   "outputs": [],
   "source": [
    "G = nx.read_weighted_edgelist(MORENO_RESIDENCE_HALL_FILE, create_using= nx.DiGraph, nodetype=int)\n",
    "cprint(nx.info(G),'green')"
   ]
  },
  {
   "cell_type": "code",
   "execution_count": null,
   "metadata": {
    "id": "9frwgvqXn8VC",
    "outputId": "d1773878-fb30-48a8-c80c-0bd015b6cf4b"
   },
   "outputs": [],
   "source": [
    "def draw_graph(pos,nodecolors):\n",
    "    plt.figure(3, figsize=(100, 100))\n",
    "    edges, weights = zip(*nx.get_edge_attributes(G, 'weight').items())\n",
    "    nx.draw(G,node_color=nodecolors, node_size=8000,arrowsize=40, pos=pos, edgelist = edges, edge_color = weights, edge_cmap = plt.cm.Greys, edge_vmin=0.0, edge_vmax=5.0, width=2.0)\n",
    "    nx.draw_networkx_labels(G, font_size=30, pos=pos)\n",
    "    ax=plt.gca()\n",
    "    ax.collections[0].set_edgecolor(\"#000000\")\n",
    "    plt.show()\n"
   ]
  },
  {
   "cell_type": "code",
   "execution_count": null,
   "metadata": {},
   "outputs": [],
   "source": [
    "pos = nx.spring_layout(G, k=0.6, iterations=100)\n",
    "draw_graph(pos,'#add8e6')"
   ]
  },
  {
   "cell_type": "code",
   "execution_count": null,
   "metadata": {
    "id": "wnlzVSuXRheM"
   },
   "outputs": [],
   "source": [
    "num_nodes = G.number_of_nodes()\n",
    "num_edges = G.number_of_edges()\n",
    "nodes = G.nodes()\n",
    "edges = G.edges()"
   ]
  },
  {
   "cell_type": "markdown",
   "metadata": {},
   "source": [
    "## Random models"
   ]
  },
  {
   "cell_type": "markdown",
   "metadata": {},
   "source": [
    "### Erdös-Rényi random graph model"
   ]
  },
  {
   "cell_type": "code",
   "execution_count": null,
   "metadata": {},
   "outputs": [],
   "source": [
    "n = G.number_of_nodes()\n",
    "m = G.number_of_edges()\n",
    "seed = 20160  # seed random number generators for reproducibility\n",
    "\n",
    "# Use seed for reproducibility\n",
    "ErdG= nx.gnm_random_graph(n, m, seed=seed, directed=True)\n",
    "nx.info(ErdG)"
   ]
  },
  {
   "cell_type": "code",
   "execution_count": null,
   "metadata": {},
   "outputs": [],
   "source": [
    "pos = nx.spring_layout(ErdG, seed=seed, k=0.6, iterations=100)  # Seed for reproducible layout\n",
    "plt.figure(3, figsize=(100, 100))\n",
    "nx.draw(ErdG, node_color='#add8e6', node_size=8000,arrowsize=40, pos=pos, width=2.0)\n",
    "nx.draw_networkx_labels(ErdG, font_size=30, pos=pos)\n",
    "ax=plt.gca()\n",
    "ax.collections[0].set_edgecolor(\"#000000\")\n",
    "plt.show()"
   ]
  },
  {
   "cell_type": "code",
   "execution_count": null,
   "metadata": {},
   "outputs": [],
   "source": [
    "# some properties\n",
    "\"\"\" print(\"node degree clustering\")\n",
    "for v in nx.nodes(ErdG):\n",
    "    print(f\"{v} {nx.degree(ErdG, v)} {nx.clustering(ErdG, v)}\")\n",
    "\n",
    "print()\n",
    "print(\"the adjacency list\")\n",
    "for line in nx.generate_adjlist(ErdG):\n",
    "    print(line)\n",
    "\n",
    "\"\"\"\n",
    "#average shoart path length (for small world property)\n",
    "avg_short_path = nx.average_shortest_path_length(ErdG)\n",
    "cprint(\"Average shortest path length Erdos Random network: \", 'blue', end=' ')\n",
    "cprint(round(avg_short_path,2), 'green')\n",
    "\n",
    "# (1) Distances between pairs of nodes are short (small-world property): good!\n",
    "\n",
    "if(math.isclose(math.log(ErdG.number_of_nodes(),10),avg_short_path,abs_tol=0.5)):\n",
    "    cprint(\"Small-word\", 'yellow')\n",
    "else:\n",
    "    cprint(\"NOT Small-word \", 'yellow')\n",
    "\n",
    "# (2) The average clustering coefficient is much lower than on real networks of the  same size and average degree: bad!\n",
    "avg_clustering = nx.average_clustering(G)\n",
    "avg_clustering_ErdG = nx.average_clustering(ErdG)\n",
    "print(\"Average Clustering Erdos Random network: \", avg_clustering_ErdG)\n",
    "print(\"Average Clustering our Network: \", avg_clustering)\n",
    "\n",
    "# (3) The nodes have approximately the same degree, there are no hubs: bad! \n",
    "\n",
    "\n"
   ]
  },
  {
   "cell_type": "markdown",
   "metadata": {},
   "source": [
    "### The Watts-Strogatz model (Small World)"
   ]
  },
  {
   "cell_type": "code",
   "execution_count": null,
   "metadata": {},
   "outputs": [],
   "source": [
    "degree_sequence = [G.degree(n) for n in G.nodes]\n",
    "median_degree = statistics.median(degree_sequence)\n",
    "Watts_Strogatz_G = nx.watts_strogatz_graph(G.number_of_nodes(), int(median_degree), 0.1) \n",
    "nx.info(Watts_Strogatz_G)"
   ]
  },
  {
   "cell_type": "code",
   "execution_count": null,
   "metadata": {},
   "outputs": [],
   "source": [
    "plt.figure(figsize = (100, 100))\n",
    "nx.draw_circular(Watts_Strogatz_G, with_labels=True)"
   ]
  },
  {
   "cell_type": "code",
   "execution_count": null,
   "metadata": {},
   "outputs": [],
   "source": [
    "# (1) There is a range of values of the rewiring probability p for which distances between pairs of nodes are short (small-world property)\n",
    "#  and the average clustering coefficient is high: good!\n",
    "\n",
    "#average shoart path length (for small world property)\n",
    "avg_short_path_Wa = nx.average_shortest_path_length(Watts_Strogatz_G)\n",
    "cprint(\"Average shortest path length Watts Strogatz network: \", 'blue', end=' ')\n",
    "cprint(round(avg_short_path_Wa,2), 'green')\n",
    "\n",
    "if(math.isclose(math.log(Watts_Strogatz_G.number_of_nodes(),10),avg_short_path_Wa,abs_tol=0.5)):\n",
    "    cprint(\"Small-word\", 'yellow')\n",
    "else:\n",
    "    cprint(\"NOT Small-word \", 'yellow')\n",
    "\n",
    "\n",
    "# (2) The nodes have approximately the same degree, there are no hubs: bad!\n",
    "\n",
    "\n",
    "\n"
   ]
  },
  {
   "cell_type": "markdown",
   "metadata": {},
   "source": [
    "### Configuration Model Network"
   ]
  },
  {
   "cell_type": "code",
   "execution_count": null,
   "metadata": {},
   "outputs": [],
   "source": [
    "\"\"\"\n",
    "• Degree-preserving randomization: generate randomized versions of a given \n",
    "network with the same degree sequence, using the configuration model \n",
    "• Why: useful to see whether a specific property of the original network is \n",
    "determined by its degree distribution alone\n",
    "• If the property is maintained in the randomized configurations, then the \n",
    "degree distribution is the main driver\n",
    "• If the property is lost in the randomized configurations, other factors must \n",
    "be responsible for it\n",
    "\"\"\"\n",
    "\n",
    "in_degree_sequence_conf_model = [G.in_degree(n) for n in G.nodes]\n",
    "out_degree_sequence_conf_model =[G.out_degree(n) for n in G.nodes]\n",
    "G_conf_model = nx.directed_configuration_model(in_degree_sequence_conf_model, out_degree_sequence_conf_model)\n",
    "nx.info(G_conf_model)"
   ]
  },
  {
   "cell_type": "markdown",
   "metadata": {},
   "source": [
    "### Preferential Model Network"
   ]
  },
  {
   "cell_type": "code",
   "execution_count": null,
   "metadata": {},
   "outputs": [],
   "source": [
    "initial_graph = G.copy()\n",
    "G_barabasi = nx.barabasi_albert_graph(30, 1)\n",
    "nx.draw(G_barabasi)\n",
    "nx.info(G_barabasi)"
   ]
  }
 ],
 "metadata": {
  "interpreter": {
   "hash": "f8ae09881bbebee938be0caa45ef175a1c6065d325cf171942f9a51ab4cc4cd6"
  },
  "kernelspec": {
   "display_name": "Python 3.8.12 64-bit ('base': conda)",
   "name": "python3"
  },
  "language_info": {
   "codemirror_mode": {
    "name": "ipython",
    "version": 3
   },
   "file_extension": ".py",
   "mimetype": "text/x-python",
   "name": "python",
   "nbconvert_exporter": "python",
   "pygments_lexer": "ipython3",
   "version": "3.8.12"
  }
 },
 "nbformat": 4,
 "nbformat_minor": 1
}
