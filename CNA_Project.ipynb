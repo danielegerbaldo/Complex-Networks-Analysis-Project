{
 "cells": [
  {
   "cell_type": "code",
   "execution_count": 2,
   "metadata": {
    "id": "NUIs5c5YUl__",
    "outputId": "f0080048-05ad-432f-9205-731e3a832ab1"
   },
   "outputs": [
    {
     "name": "stdout",
     "output_type": "stream",
     "text": [
      "Requirement already satisfied: networkx in c:\\users\\principale\\anaconda3\\lib\\site-packages (2.5)\n",
      "Requirement already satisfied: powerlaw in c:\\users\\principale\\anaconda3\\lib\\site-packages (1.5)\n",
      "Requirement already satisfied: decorator>=4.3.0 in c:\\users\\principale\\anaconda3\\lib\\site-packages (from networkx) (5.1.0)\n",
      "Requirement already satisfied: mpmath in c:\\users\\principale\\anaconda3\\lib\\site-packages (from powerlaw) (1.2.1)\n",
      "Requirement already satisfied: numpy in c:\\users\\principale\\anaconda3\\lib\\site-packages (from powerlaw) (1.20.1)\n",
      "Requirement already satisfied: scipy in c:\\users\\principale\\anaconda3\\lib\\site-packages (from powerlaw) (1.6.2)\n",
      "Requirement already satisfied: matplotlib in c:\\users\\principale\\anaconda3\\lib\\site-packages (from powerlaw) (3.4.3)\n",
      "Requirement already satisfied: kiwisolver>=1.0.1 in c:\\users\\principale\\anaconda3\\lib\\site-packages (from matplotlib->powerlaw) (1.3.1)\n",
      "Requirement already satisfied: python-dateutil>=2.7 in c:\\users\\principale\\anaconda3\\lib\\site-packages (from matplotlib->powerlaw) (2.8.1)\n",
      "Requirement already satisfied: pillow>=6.2.0 in c:\\users\\principale\\anaconda3\\lib\\site-packages (from matplotlib->powerlaw) (8.2.0)\n",
      "Requirement already satisfied: cycler>=0.10 in c:\\users\\principale\\anaconda3\\lib\\site-packages (from matplotlib->powerlaw) (0.10.0)\n",
      "Requirement already satisfied: pyparsing>=2.2.1 in c:\\users\\principale\\anaconda3\\lib\\site-packages (from matplotlib->powerlaw) (2.4.7)\n",
      "Requirement already satisfied: six in c:\\users\\principale\\anaconda3\\lib\\site-packages (from cycler>=0.10->matplotlib->powerlaw) (1.15.0)\n"
     ]
    }
   ],
   "source": [
    "!pip install networkx powerlaw"
   ]
  },
  {
   "cell_type": "code",
   "execution_count": 3,
   "metadata": {
    "id": "MNgpV6cZhz-N"
   },
   "outputs": [],
   "source": [
    "import networkx as nx\n",
    "import matplotlib.pyplot as plt\n",
    "import statistics\n",
    "import sys\n",
    "import random\n",
    "import math\n",
    "import numpy as np\n",
    "import powerlaw\n",
    "import pandas as pd\n",
    "import seaborn as sns\n",
    "from collections import Counter\n",
    "from scipy.stats import norm\n",
    "from termcolor import colored, cprint\n",
    "from matplotlib.patches import Rectangle"
   ]
  },
  {
   "cell_type": "code",
   "execution_count": 4,
   "metadata": {
    "id": "5DZDVBDpmHlD"
   },
   "outputs": [],
   "source": [
    "MORENO_RESIDENCE_HALL_FILE = 'networks/moreno_residence_hall.txt'"
   ]
  },
  {
   "cell_type": "markdown",
   "metadata": {
    "id": "Bgv4ZppyTo9T"
   },
   "source": [
    "# Residence-Hall-Network\n",
    "\n",
    "(Directed)\n",
    "\n",
    "His directed network contains friendship ratings between 217 residents living at a residence hall located on the Australian National University campus. A node represents a person and \n",
    "an edge represents a friendship tie.  The friendships are weighted as follows from strongest to weakest tie:  5 (best friend), 4 (close friend), 3 (friend), 2, 1."
   ]
  },
  {
   "cell_type": "code",
   "execution_count": 5,
   "metadata": {
    "id": "D01AFKCzjKaa",
    "outputId": "ab262d2a-4d79-490a-f54c-edbc87aaaacc"
   },
   "outputs": [
    {
     "name": "stdout",
     "output_type": "stream",
     "text": [
      "\u001b[32mName: \n",
      "Type: DiGraph\n",
      "Number of nodes: 217\n",
      "Number of edges: 2672\n",
      "Average in degree:  12.3134\n",
      "Average out degree:  12.3134\u001b[0m\n"
     ]
    }
   ],
   "source": [
    "G = nx.read_weighted_edgelist(MORENO_RESIDENCE_HALL_FILE, create_using= nx.DiGraph, nodetype=int)\n",
    "cprint(nx.info(G),'green')"
   ]
  },
  {
   "cell_type": "code",
   "execution_count": 6,
   "metadata": {
    "id": "9frwgvqXn8VC",
    "outputId": "d1773878-fb30-48a8-c80c-0bd015b6cf4b"
   },
   "outputs": [
    {
     "ename": "KeyboardInterrupt",
     "evalue": "",
     "output_type": "error",
     "traceback": [
      "\u001b[1;31m---------------------------------------------------------------------------\u001b[0m",
      "\u001b[1;31mKeyboardInterrupt\u001b[0m                         Traceback (most recent call last)",
      "\u001b[1;32m<ipython-input-6-bcf5e49e2aba>\u001b[0m in \u001b[0;36m<module>\u001b[1;34m\u001b[0m\n\u001b[0;32m      6\u001b[0m \u001b[0max\u001b[0m\u001b[1;33m=\u001b[0m\u001b[0mplt\u001b[0m\u001b[1;33m.\u001b[0m\u001b[0mgca\u001b[0m\u001b[1;33m(\u001b[0m\u001b[1;33m)\u001b[0m\u001b[1;33m\u001b[0m\u001b[1;33m\u001b[0m\u001b[0m\n\u001b[0;32m      7\u001b[0m \u001b[0max\u001b[0m\u001b[1;33m.\u001b[0m\u001b[0mcollections\u001b[0m\u001b[1;33m[\u001b[0m\u001b[1;36m0\u001b[0m\u001b[1;33m]\u001b[0m\u001b[1;33m.\u001b[0m\u001b[0mset_edgecolor\u001b[0m\u001b[1;33m(\u001b[0m\u001b[1;34m\"#000000\"\u001b[0m\u001b[1;33m)\u001b[0m\u001b[1;33m\u001b[0m\u001b[1;33m\u001b[0m\u001b[0m\n\u001b[1;32m----> 8\u001b[1;33m \u001b[0mplt\u001b[0m\u001b[1;33m.\u001b[0m\u001b[0mshow\u001b[0m\u001b[1;33m(\u001b[0m\u001b[1;33m)\u001b[0m\u001b[1;33m\u001b[0m\u001b[1;33m\u001b[0m\u001b[0m\n\u001b[0m",
      "\u001b[1;32m~\\anaconda3\\lib\\site-packages\\matplotlib\\pyplot.py\u001b[0m in \u001b[0;36mshow\u001b[1;34m(*args, **kwargs)\u001b[0m\n\u001b[0;32m    376\u001b[0m     \"\"\"\n\u001b[0;32m    377\u001b[0m     \u001b[0m_warn_if_gui_out_of_main_thread\u001b[0m\u001b[1;33m(\u001b[0m\u001b[1;33m)\u001b[0m\u001b[1;33m\u001b[0m\u001b[1;33m\u001b[0m\u001b[0m\n\u001b[1;32m--> 378\u001b[1;33m     \u001b[1;32mreturn\u001b[0m \u001b[0m_backend_mod\u001b[0m\u001b[1;33m.\u001b[0m\u001b[0mshow\u001b[0m\u001b[1;33m(\u001b[0m\u001b[1;33m*\u001b[0m\u001b[0margs\u001b[0m\u001b[1;33m,\u001b[0m \u001b[1;33m**\u001b[0m\u001b[0mkwargs\u001b[0m\u001b[1;33m)\u001b[0m\u001b[1;33m\u001b[0m\u001b[1;33m\u001b[0m\u001b[0m\n\u001b[0m\u001b[0;32m    379\u001b[0m \u001b[1;33m\u001b[0m\u001b[0m\n\u001b[0;32m    380\u001b[0m \u001b[1;33m\u001b[0m\u001b[0m\n",
      "\u001b[1;32m~\\anaconda3\\lib\\site-packages\\ipykernel\\pylab\\backend_inline.py\u001b[0m in \u001b[0;36mshow\u001b[1;34m(close, block)\u001b[0m\n\u001b[0;32m     39\u001b[0m     \u001b[1;32mtry\u001b[0m\u001b[1;33m:\u001b[0m\u001b[1;33m\u001b[0m\u001b[1;33m\u001b[0m\u001b[0m\n\u001b[0;32m     40\u001b[0m         \u001b[1;32mfor\u001b[0m \u001b[0mfigure_manager\u001b[0m \u001b[1;32min\u001b[0m \u001b[0mGcf\u001b[0m\u001b[1;33m.\u001b[0m\u001b[0mget_all_fig_managers\u001b[0m\u001b[1;33m(\u001b[0m\u001b[1;33m)\u001b[0m\u001b[1;33m:\u001b[0m\u001b[1;33m\u001b[0m\u001b[1;33m\u001b[0m\u001b[0m\n\u001b[1;32m---> 41\u001b[1;33m             display(\n\u001b[0m\u001b[0;32m     42\u001b[0m                 \u001b[0mfigure_manager\u001b[0m\u001b[1;33m.\u001b[0m\u001b[0mcanvas\u001b[0m\u001b[1;33m.\u001b[0m\u001b[0mfigure\u001b[0m\u001b[1;33m,\u001b[0m\u001b[1;33m\u001b[0m\u001b[1;33m\u001b[0m\u001b[0m\n\u001b[0;32m     43\u001b[0m                 \u001b[0mmetadata\u001b[0m\u001b[1;33m=\u001b[0m\u001b[0m_fetch_figure_metadata\u001b[0m\u001b[1;33m(\u001b[0m\u001b[0mfigure_manager\u001b[0m\u001b[1;33m.\u001b[0m\u001b[0mcanvas\u001b[0m\u001b[1;33m.\u001b[0m\u001b[0mfigure\u001b[0m\u001b[1;33m)\u001b[0m\u001b[1;33m\u001b[0m\u001b[1;33m\u001b[0m\u001b[0m\n",
      "\u001b[1;32m~\\anaconda3\\lib\\site-packages\\IPython\\core\\display.py\u001b[0m in \u001b[0;36mdisplay\u001b[1;34m(include, exclude, metadata, transient, display_id, *objs, **kwargs)\u001b[0m\n\u001b[0;32m    311\u001b[0m             \u001b[0mpublish_display_data\u001b[0m\u001b[1;33m(\u001b[0m\u001b[0mdata\u001b[0m\u001b[1;33m=\u001b[0m\u001b[0mobj\u001b[0m\u001b[1;33m,\u001b[0m \u001b[0mmetadata\u001b[0m\u001b[1;33m=\u001b[0m\u001b[0mmetadata\u001b[0m\u001b[1;33m,\u001b[0m \u001b[1;33m**\u001b[0m\u001b[0mkwargs\u001b[0m\u001b[1;33m)\u001b[0m\u001b[1;33m\u001b[0m\u001b[1;33m\u001b[0m\u001b[0m\n\u001b[0;32m    312\u001b[0m         \u001b[1;32melse\u001b[0m\u001b[1;33m:\u001b[0m\u001b[1;33m\u001b[0m\u001b[1;33m\u001b[0m\u001b[0m\n\u001b[1;32m--> 313\u001b[1;33m             \u001b[0mformat_dict\u001b[0m\u001b[1;33m,\u001b[0m \u001b[0mmd_dict\u001b[0m \u001b[1;33m=\u001b[0m \u001b[0mformat\u001b[0m\u001b[1;33m(\u001b[0m\u001b[0mobj\u001b[0m\u001b[1;33m,\u001b[0m \u001b[0minclude\u001b[0m\u001b[1;33m=\u001b[0m\u001b[0minclude\u001b[0m\u001b[1;33m,\u001b[0m \u001b[0mexclude\u001b[0m\u001b[1;33m=\u001b[0m\u001b[0mexclude\u001b[0m\u001b[1;33m)\u001b[0m\u001b[1;33m\u001b[0m\u001b[1;33m\u001b[0m\u001b[0m\n\u001b[0m\u001b[0;32m    314\u001b[0m             \u001b[1;32mif\u001b[0m \u001b[1;32mnot\u001b[0m \u001b[0mformat_dict\u001b[0m\u001b[1;33m:\u001b[0m\u001b[1;33m\u001b[0m\u001b[1;33m\u001b[0m\u001b[0m\n\u001b[0;32m    315\u001b[0m                 \u001b[1;31m# nothing to display (e.g. _ipython_display_ took over)\u001b[0m\u001b[1;33m\u001b[0m\u001b[1;33m\u001b[0m\u001b[1;33m\u001b[0m\u001b[0m\n",
      "\u001b[1;32m~\\anaconda3\\lib\\site-packages\\IPython\\core\\formatters.py\u001b[0m in \u001b[0;36mformat\u001b[1;34m(self, obj, include, exclude)\u001b[0m\n\u001b[0;32m    178\u001b[0m             \u001b[0mmd\u001b[0m \u001b[1;33m=\u001b[0m \u001b[1;32mNone\u001b[0m\u001b[1;33m\u001b[0m\u001b[1;33m\u001b[0m\u001b[0m\n\u001b[0;32m    179\u001b[0m             \u001b[1;32mtry\u001b[0m\u001b[1;33m:\u001b[0m\u001b[1;33m\u001b[0m\u001b[1;33m\u001b[0m\u001b[0m\n\u001b[1;32m--> 180\u001b[1;33m                 \u001b[0mdata\u001b[0m \u001b[1;33m=\u001b[0m \u001b[0mformatter\u001b[0m\u001b[1;33m(\u001b[0m\u001b[0mobj\u001b[0m\u001b[1;33m)\u001b[0m\u001b[1;33m\u001b[0m\u001b[1;33m\u001b[0m\u001b[0m\n\u001b[0m\u001b[0;32m    181\u001b[0m             \u001b[1;32mexcept\u001b[0m\u001b[1;33m:\u001b[0m\u001b[1;33m\u001b[0m\u001b[1;33m\u001b[0m\u001b[0m\n\u001b[0;32m    182\u001b[0m                 \u001b[1;31m# FIXME: log the exception\u001b[0m\u001b[1;33m\u001b[0m\u001b[1;33m\u001b[0m\u001b[1;33m\u001b[0m\u001b[0m\n",
      "\u001b[1;32m~\\anaconda3\\lib\\site-packages\\decorator.py\u001b[0m in \u001b[0;36mfun\u001b[1;34m(*args, **kw)\u001b[0m\n\u001b[0;32m    230\u001b[0m             \u001b[1;32mif\u001b[0m \u001b[1;32mnot\u001b[0m \u001b[0mkwsyntax\u001b[0m\u001b[1;33m:\u001b[0m\u001b[1;33m\u001b[0m\u001b[1;33m\u001b[0m\u001b[0m\n\u001b[0;32m    231\u001b[0m                 \u001b[0margs\u001b[0m\u001b[1;33m,\u001b[0m \u001b[0mkw\u001b[0m \u001b[1;33m=\u001b[0m \u001b[0mfix\u001b[0m\u001b[1;33m(\u001b[0m\u001b[0margs\u001b[0m\u001b[1;33m,\u001b[0m \u001b[0mkw\u001b[0m\u001b[1;33m,\u001b[0m \u001b[0msig\u001b[0m\u001b[1;33m)\u001b[0m\u001b[1;33m\u001b[0m\u001b[1;33m\u001b[0m\u001b[0m\n\u001b[1;32m--> 232\u001b[1;33m             \u001b[1;32mreturn\u001b[0m \u001b[0mcaller\u001b[0m\u001b[1;33m(\u001b[0m\u001b[0mfunc\u001b[0m\u001b[1;33m,\u001b[0m \u001b[1;33m*\u001b[0m\u001b[1;33m(\u001b[0m\u001b[0mextras\u001b[0m \u001b[1;33m+\u001b[0m \u001b[0margs\u001b[0m\u001b[1;33m)\u001b[0m\u001b[1;33m,\u001b[0m \u001b[1;33m**\u001b[0m\u001b[0mkw\u001b[0m\u001b[1;33m)\u001b[0m\u001b[1;33m\u001b[0m\u001b[1;33m\u001b[0m\u001b[0m\n\u001b[0m\u001b[0;32m    233\u001b[0m     \u001b[0mfun\u001b[0m\u001b[1;33m.\u001b[0m\u001b[0m__name__\u001b[0m \u001b[1;33m=\u001b[0m \u001b[0mfunc\u001b[0m\u001b[1;33m.\u001b[0m\u001b[0m__name__\u001b[0m\u001b[1;33m\u001b[0m\u001b[1;33m\u001b[0m\u001b[0m\n\u001b[0;32m    234\u001b[0m     \u001b[0mfun\u001b[0m\u001b[1;33m.\u001b[0m\u001b[0m__doc__\u001b[0m \u001b[1;33m=\u001b[0m \u001b[0mfunc\u001b[0m\u001b[1;33m.\u001b[0m\u001b[0m__doc__\u001b[0m\u001b[1;33m\u001b[0m\u001b[1;33m\u001b[0m\u001b[0m\n",
      "\u001b[1;32m~\\anaconda3\\lib\\site-packages\\IPython\\core\\formatters.py\u001b[0m in \u001b[0;36mcatch_format_error\u001b[1;34m(method, self, *args, **kwargs)\u001b[0m\n\u001b[0;32m    222\u001b[0m     \u001b[1;34m\"\"\"show traceback on failed format call\"\"\"\u001b[0m\u001b[1;33m\u001b[0m\u001b[1;33m\u001b[0m\u001b[0m\n\u001b[0;32m    223\u001b[0m     \u001b[1;32mtry\u001b[0m\u001b[1;33m:\u001b[0m\u001b[1;33m\u001b[0m\u001b[1;33m\u001b[0m\u001b[0m\n\u001b[1;32m--> 224\u001b[1;33m         \u001b[0mr\u001b[0m \u001b[1;33m=\u001b[0m \u001b[0mmethod\u001b[0m\u001b[1;33m(\u001b[0m\u001b[0mself\u001b[0m\u001b[1;33m,\u001b[0m \u001b[1;33m*\u001b[0m\u001b[0margs\u001b[0m\u001b[1;33m,\u001b[0m \u001b[1;33m**\u001b[0m\u001b[0mkwargs\u001b[0m\u001b[1;33m)\u001b[0m\u001b[1;33m\u001b[0m\u001b[1;33m\u001b[0m\u001b[0m\n\u001b[0m\u001b[0;32m    225\u001b[0m     \u001b[1;32mexcept\u001b[0m \u001b[0mNotImplementedError\u001b[0m\u001b[1;33m:\u001b[0m\u001b[1;33m\u001b[0m\u001b[1;33m\u001b[0m\u001b[0m\n\u001b[0;32m    226\u001b[0m         \u001b[1;31m# don't warn on NotImplementedErrors\u001b[0m\u001b[1;33m\u001b[0m\u001b[1;33m\u001b[0m\u001b[1;33m\u001b[0m\u001b[0m\n",
      "\u001b[1;32m~\\anaconda3\\lib\\site-packages\\IPython\\core\\formatters.py\u001b[0m in \u001b[0;36m__call__\u001b[1;34m(self, obj)\u001b[0m\n\u001b[0;32m    339\u001b[0m                 \u001b[1;32mpass\u001b[0m\u001b[1;33m\u001b[0m\u001b[1;33m\u001b[0m\u001b[0m\n\u001b[0;32m    340\u001b[0m             \u001b[1;32melse\u001b[0m\u001b[1;33m:\u001b[0m\u001b[1;33m\u001b[0m\u001b[1;33m\u001b[0m\u001b[0m\n\u001b[1;32m--> 341\u001b[1;33m                 \u001b[1;32mreturn\u001b[0m \u001b[0mprinter\u001b[0m\u001b[1;33m(\u001b[0m\u001b[0mobj\u001b[0m\u001b[1;33m)\u001b[0m\u001b[1;33m\u001b[0m\u001b[1;33m\u001b[0m\u001b[0m\n\u001b[0m\u001b[0;32m    342\u001b[0m             \u001b[1;31m# Finally look for special method names\u001b[0m\u001b[1;33m\u001b[0m\u001b[1;33m\u001b[0m\u001b[1;33m\u001b[0m\u001b[0m\n\u001b[0;32m    343\u001b[0m             \u001b[0mmethod\u001b[0m \u001b[1;33m=\u001b[0m \u001b[0mget_real_method\u001b[0m\u001b[1;33m(\u001b[0m\u001b[0mobj\u001b[0m\u001b[1;33m,\u001b[0m \u001b[0mself\u001b[0m\u001b[1;33m.\u001b[0m\u001b[0mprint_method\u001b[0m\u001b[1;33m)\u001b[0m\u001b[1;33m\u001b[0m\u001b[1;33m\u001b[0m\u001b[0m\n",
      "\u001b[1;32m~\\anaconda3\\lib\\site-packages\\IPython\\core\\pylabtools.py\u001b[0m in \u001b[0;36m<lambda>\u001b[1;34m(fig)\u001b[0m\n\u001b[0;32m    246\u001b[0m \u001b[1;33m\u001b[0m\u001b[0m\n\u001b[0;32m    247\u001b[0m     \u001b[1;32mif\u001b[0m \u001b[1;34m'png'\u001b[0m \u001b[1;32min\u001b[0m \u001b[0mformats\u001b[0m\u001b[1;33m:\u001b[0m\u001b[1;33m\u001b[0m\u001b[1;33m\u001b[0m\u001b[0m\n\u001b[1;32m--> 248\u001b[1;33m         \u001b[0mpng_formatter\u001b[0m\u001b[1;33m.\u001b[0m\u001b[0mfor_type\u001b[0m\u001b[1;33m(\u001b[0m\u001b[0mFigure\u001b[0m\u001b[1;33m,\u001b[0m \u001b[1;32mlambda\u001b[0m \u001b[0mfig\u001b[0m\u001b[1;33m:\u001b[0m \u001b[0mprint_figure\u001b[0m\u001b[1;33m(\u001b[0m\u001b[0mfig\u001b[0m\u001b[1;33m,\u001b[0m \u001b[1;34m'png'\u001b[0m\u001b[1;33m,\u001b[0m \u001b[1;33m**\u001b[0m\u001b[0mkwargs\u001b[0m\u001b[1;33m)\u001b[0m\u001b[1;33m)\u001b[0m\u001b[1;33m\u001b[0m\u001b[1;33m\u001b[0m\u001b[0m\n\u001b[0m\u001b[0;32m    249\u001b[0m     \u001b[1;32mif\u001b[0m \u001b[1;34m'retina'\u001b[0m \u001b[1;32min\u001b[0m \u001b[0mformats\u001b[0m \u001b[1;32mor\u001b[0m \u001b[1;34m'png2x'\u001b[0m \u001b[1;32min\u001b[0m \u001b[0mformats\u001b[0m\u001b[1;33m:\u001b[0m\u001b[1;33m\u001b[0m\u001b[1;33m\u001b[0m\u001b[0m\n\u001b[0;32m    250\u001b[0m         \u001b[0mpng_formatter\u001b[0m\u001b[1;33m.\u001b[0m\u001b[0mfor_type\u001b[0m\u001b[1;33m(\u001b[0m\u001b[0mFigure\u001b[0m\u001b[1;33m,\u001b[0m \u001b[1;32mlambda\u001b[0m \u001b[0mfig\u001b[0m\u001b[1;33m:\u001b[0m \u001b[0mretina_figure\u001b[0m\u001b[1;33m(\u001b[0m\u001b[0mfig\u001b[0m\u001b[1;33m,\u001b[0m \u001b[1;33m**\u001b[0m\u001b[0mkwargs\u001b[0m\u001b[1;33m)\u001b[0m\u001b[1;33m)\u001b[0m\u001b[1;33m\u001b[0m\u001b[1;33m\u001b[0m\u001b[0m\n",
      "\u001b[1;32m~\\anaconda3\\lib\\site-packages\\IPython\\core\\pylabtools.py\u001b[0m in \u001b[0;36mprint_figure\u001b[1;34m(fig, fmt, bbox_inches, **kwargs)\u001b[0m\n\u001b[0;32m    130\u001b[0m         \u001b[0mFigureCanvasBase\u001b[0m\u001b[1;33m(\u001b[0m\u001b[0mfig\u001b[0m\u001b[1;33m)\u001b[0m\u001b[1;33m\u001b[0m\u001b[1;33m\u001b[0m\u001b[0m\n\u001b[0;32m    131\u001b[0m \u001b[1;33m\u001b[0m\u001b[0m\n\u001b[1;32m--> 132\u001b[1;33m     \u001b[0mfig\u001b[0m\u001b[1;33m.\u001b[0m\u001b[0mcanvas\u001b[0m\u001b[1;33m.\u001b[0m\u001b[0mprint_figure\u001b[0m\u001b[1;33m(\u001b[0m\u001b[0mbytes_io\u001b[0m\u001b[1;33m,\u001b[0m \u001b[1;33m**\u001b[0m\u001b[0mkw\u001b[0m\u001b[1;33m)\u001b[0m\u001b[1;33m\u001b[0m\u001b[1;33m\u001b[0m\u001b[0m\n\u001b[0m\u001b[0;32m    133\u001b[0m     \u001b[0mdata\u001b[0m \u001b[1;33m=\u001b[0m \u001b[0mbytes_io\u001b[0m\u001b[1;33m.\u001b[0m\u001b[0mgetvalue\u001b[0m\u001b[1;33m(\u001b[0m\u001b[1;33m)\u001b[0m\u001b[1;33m\u001b[0m\u001b[1;33m\u001b[0m\u001b[0m\n\u001b[0;32m    134\u001b[0m     \u001b[1;32mif\u001b[0m \u001b[0mfmt\u001b[0m \u001b[1;33m==\u001b[0m \u001b[1;34m'svg'\u001b[0m\u001b[1;33m:\u001b[0m\u001b[1;33m\u001b[0m\u001b[1;33m\u001b[0m\u001b[0m\n",
      "\u001b[1;32m~\\anaconda3\\lib\\site-packages\\matplotlib\\backend_bases.py\u001b[0m in \u001b[0;36mprint_figure\u001b[1;34m(self, filename, dpi, facecolor, edgecolor, orientation, format, bbox_inches, pad_inches, bbox_extra_artists, backend, **kwargs)\u001b[0m\n\u001b[0;32m   2228\u001b[0m                        else suppress())\n\u001b[0;32m   2229\u001b[0m                 \u001b[1;32mwith\u001b[0m \u001b[0mctx\u001b[0m\u001b[1;33m:\u001b[0m\u001b[1;33m\u001b[0m\u001b[1;33m\u001b[0m\u001b[0m\n\u001b[1;32m-> 2230\u001b[1;33m                     \u001b[0mself\u001b[0m\u001b[1;33m.\u001b[0m\u001b[0mfigure\u001b[0m\u001b[1;33m.\u001b[0m\u001b[0mdraw\u001b[0m\u001b[1;33m(\u001b[0m\u001b[0mrenderer\u001b[0m\u001b[1;33m)\u001b[0m\u001b[1;33m\u001b[0m\u001b[1;33m\u001b[0m\u001b[0m\n\u001b[0m\u001b[0;32m   2231\u001b[0m \u001b[1;33m\u001b[0m\u001b[0m\n\u001b[0;32m   2232\u001b[0m             \u001b[1;32mif\u001b[0m \u001b[0mbbox_inches\u001b[0m\u001b[1;33m:\u001b[0m\u001b[1;33m\u001b[0m\u001b[1;33m\u001b[0m\u001b[0m\n",
      "\u001b[1;32m~\\anaconda3\\lib\\site-packages\\matplotlib\\artist.py\u001b[0m in \u001b[0;36mdraw_wrapper\u001b[1;34m(artist, renderer, *args, **kwargs)\u001b[0m\n\u001b[0;32m     72\u001b[0m     \u001b[1;33m@\u001b[0m\u001b[0mwraps\u001b[0m\u001b[1;33m(\u001b[0m\u001b[0mdraw\u001b[0m\u001b[1;33m)\u001b[0m\u001b[1;33m\u001b[0m\u001b[1;33m\u001b[0m\u001b[0m\n\u001b[0;32m     73\u001b[0m     \u001b[1;32mdef\u001b[0m \u001b[0mdraw_wrapper\u001b[0m\u001b[1;33m(\u001b[0m\u001b[0martist\u001b[0m\u001b[1;33m,\u001b[0m \u001b[0mrenderer\u001b[0m\u001b[1;33m,\u001b[0m \u001b[1;33m*\u001b[0m\u001b[0margs\u001b[0m\u001b[1;33m,\u001b[0m \u001b[1;33m**\u001b[0m\u001b[0mkwargs\u001b[0m\u001b[1;33m)\u001b[0m\u001b[1;33m:\u001b[0m\u001b[1;33m\u001b[0m\u001b[1;33m\u001b[0m\u001b[0m\n\u001b[1;32m---> 74\u001b[1;33m         \u001b[0mresult\u001b[0m \u001b[1;33m=\u001b[0m \u001b[0mdraw\u001b[0m\u001b[1;33m(\u001b[0m\u001b[0martist\u001b[0m\u001b[1;33m,\u001b[0m \u001b[0mrenderer\u001b[0m\u001b[1;33m,\u001b[0m \u001b[1;33m*\u001b[0m\u001b[0margs\u001b[0m\u001b[1;33m,\u001b[0m \u001b[1;33m**\u001b[0m\u001b[0mkwargs\u001b[0m\u001b[1;33m)\u001b[0m\u001b[1;33m\u001b[0m\u001b[1;33m\u001b[0m\u001b[0m\n\u001b[0m\u001b[0;32m     75\u001b[0m         \u001b[1;32mif\u001b[0m \u001b[0mrenderer\u001b[0m\u001b[1;33m.\u001b[0m\u001b[0m_rasterizing\u001b[0m\u001b[1;33m:\u001b[0m\u001b[1;33m\u001b[0m\u001b[1;33m\u001b[0m\u001b[0m\n\u001b[0;32m     76\u001b[0m             \u001b[0mrenderer\u001b[0m\u001b[1;33m.\u001b[0m\u001b[0mstop_rasterizing\u001b[0m\u001b[1;33m(\u001b[0m\u001b[1;33m)\u001b[0m\u001b[1;33m\u001b[0m\u001b[1;33m\u001b[0m\u001b[0m\n",
      "\u001b[1;32m~\\anaconda3\\lib\\site-packages\\matplotlib\\artist.py\u001b[0m in \u001b[0;36mdraw_wrapper\u001b[1;34m(artist, renderer, *args, **kwargs)\u001b[0m\n\u001b[0;32m     49\u001b[0m                 \u001b[0mrenderer\u001b[0m\u001b[1;33m.\u001b[0m\u001b[0mstart_filter\u001b[0m\u001b[1;33m(\u001b[0m\u001b[1;33m)\u001b[0m\u001b[1;33m\u001b[0m\u001b[1;33m\u001b[0m\u001b[0m\n\u001b[0;32m     50\u001b[0m \u001b[1;33m\u001b[0m\u001b[0m\n\u001b[1;32m---> 51\u001b[1;33m             \u001b[1;32mreturn\u001b[0m \u001b[0mdraw\u001b[0m\u001b[1;33m(\u001b[0m\u001b[0martist\u001b[0m\u001b[1;33m,\u001b[0m \u001b[0mrenderer\u001b[0m\u001b[1;33m,\u001b[0m \u001b[1;33m*\u001b[0m\u001b[0margs\u001b[0m\u001b[1;33m,\u001b[0m \u001b[1;33m**\u001b[0m\u001b[0mkwargs\u001b[0m\u001b[1;33m)\u001b[0m\u001b[1;33m\u001b[0m\u001b[1;33m\u001b[0m\u001b[0m\n\u001b[0m\u001b[0;32m     52\u001b[0m         \u001b[1;32mfinally\u001b[0m\u001b[1;33m:\u001b[0m\u001b[1;33m\u001b[0m\u001b[1;33m\u001b[0m\u001b[0m\n\u001b[0;32m     53\u001b[0m             \u001b[1;32mif\u001b[0m \u001b[0martist\u001b[0m\u001b[1;33m.\u001b[0m\u001b[0mget_agg_filter\u001b[0m\u001b[1;33m(\u001b[0m\u001b[1;33m)\u001b[0m \u001b[1;32mis\u001b[0m \u001b[1;32mnot\u001b[0m \u001b[1;32mNone\u001b[0m\u001b[1;33m:\u001b[0m\u001b[1;33m\u001b[0m\u001b[1;33m\u001b[0m\u001b[0m\n",
      "\u001b[1;32m~\\anaconda3\\lib\\site-packages\\matplotlib\\figure.py\u001b[0m in \u001b[0;36mdraw\u001b[1;34m(self, renderer)\u001b[0m\n\u001b[0;32m   2788\u001b[0m \u001b[1;33m\u001b[0m\u001b[0m\n\u001b[0;32m   2789\u001b[0m             \u001b[0mself\u001b[0m\u001b[1;33m.\u001b[0m\u001b[0mpatch\u001b[0m\u001b[1;33m.\u001b[0m\u001b[0mdraw\u001b[0m\u001b[1;33m(\u001b[0m\u001b[0mrenderer\u001b[0m\u001b[1;33m)\u001b[0m\u001b[1;33m\u001b[0m\u001b[1;33m\u001b[0m\u001b[0m\n\u001b[1;32m-> 2790\u001b[1;33m             mimage._draw_list_compositing_images(\n\u001b[0m\u001b[0;32m   2791\u001b[0m                 renderer, self, artists, self.suppressComposite)\n\u001b[0;32m   2792\u001b[0m \u001b[1;33m\u001b[0m\u001b[0m\n",
      "\u001b[1;32m~\\anaconda3\\lib\\site-packages\\matplotlib\\image.py\u001b[0m in \u001b[0;36m_draw_list_compositing_images\u001b[1;34m(renderer, parent, artists, suppress_composite)\u001b[0m\n\u001b[0;32m    130\u001b[0m     \u001b[1;32mif\u001b[0m \u001b[0mnot_composite\u001b[0m \u001b[1;32mor\u001b[0m \u001b[1;32mnot\u001b[0m \u001b[0mhas_images\u001b[0m\u001b[1;33m:\u001b[0m\u001b[1;33m\u001b[0m\u001b[1;33m\u001b[0m\u001b[0m\n\u001b[0;32m    131\u001b[0m         \u001b[1;32mfor\u001b[0m \u001b[0ma\u001b[0m \u001b[1;32min\u001b[0m \u001b[0martists\u001b[0m\u001b[1;33m:\u001b[0m\u001b[1;33m\u001b[0m\u001b[1;33m\u001b[0m\u001b[0m\n\u001b[1;32m--> 132\u001b[1;33m             \u001b[0ma\u001b[0m\u001b[1;33m.\u001b[0m\u001b[0mdraw\u001b[0m\u001b[1;33m(\u001b[0m\u001b[0mrenderer\u001b[0m\u001b[1;33m)\u001b[0m\u001b[1;33m\u001b[0m\u001b[1;33m\u001b[0m\u001b[0m\n\u001b[0m\u001b[0;32m    133\u001b[0m     \u001b[1;32melse\u001b[0m\u001b[1;33m:\u001b[0m\u001b[1;33m\u001b[0m\u001b[1;33m\u001b[0m\u001b[0m\n\u001b[0;32m    134\u001b[0m         \u001b[1;31m# Composite any adjacent images together\u001b[0m\u001b[1;33m\u001b[0m\u001b[1;33m\u001b[0m\u001b[1;33m\u001b[0m\u001b[0m\n",
      "\u001b[1;32m~\\anaconda3\\lib\\site-packages\\matplotlib\\artist.py\u001b[0m in \u001b[0;36mdraw_wrapper\u001b[1;34m(artist, renderer, *args, **kwargs)\u001b[0m\n\u001b[0;32m     49\u001b[0m                 \u001b[0mrenderer\u001b[0m\u001b[1;33m.\u001b[0m\u001b[0mstart_filter\u001b[0m\u001b[1;33m(\u001b[0m\u001b[1;33m)\u001b[0m\u001b[1;33m\u001b[0m\u001b[1;33m\u001b[0m\u001b[0m\n\u001b[0;32m     50\u001b[0m \u001b[1;33m\u001b[0m\u001b[0m\n\u001b[1;32m---> 51\u001b[1;33m             \u001b[1;32mreturn\u001b[0m \u001b[0mdraw\u001b[0m\u001b[1;33m(\u001b[0m\u001b[0martist\u001b[0m\u001b[1;33m,\u001b[0m \u001b[0mrenderer\u001b[0m\u001b[1;33m,\u001b[0m \u001b[1;33m*\u001b[0m\u001b[0margs\u001b[0m\u001b[1;33m,\u001b[0m \u001b[1;33m**\u001b[0m\u001b[0mkwargs\u001b[0m\u001b[1;33m)\u001b[0m\u001b[1;33m\u001b[0m\u001b[1;33m\u001b[0m\u001b[0m\n\u001b[0m\u001b[0;32m     52\u001b[0m         \u001b[1;32mfinally\u001b[0m\u001b[1;33m:\u001b[0m\u001b[1;33m\u001b[0m\u001b[1;33m\u001b[0m\u001b[0m\n\u001b[0;32m     53\u001b[0m             \u001b[1;32mif\u001b[0m \u001b[0martist\u001b[0m\u001b[1;33m.\u001b[0m\u001b[0mget_agg_filter\u001b[0m\u001b[1;33m(\u001b[0m\u001b[1;33m)\u001b[0m \u001b[1;32mis\u001b[0m \u001b[1;32mnot\u001b[0m \u001b[1;32mNone\u001b[0m\u001b[1;33m:\u001b[0m\u001b[1;33m\u001b[0m\u001b[1;33m\u001b[0m\u001b[0m\n",
      "\u001b[1;32m~\\anaconda3\\lib\\site-packages\\matplotlib\\_api\\deprecation.py\u001b[0m in \u001b[0;36mwrapper\u001b[1;34m(*inner_args, **inner_kwargs)\u001b[0m\n\u001b[0;32m    429\u001b[0m                          \u001b[1;32melse\u001b[0m \u001b[0mdeprecation_addendum\u001b[0m\u001b[1;33m,\u001b[0m\u001b[1;33m\u001b[0m\u001b[1;33m\u001b[0m\u001b[0m\n\u001b[0;32m    430\u001b[0m                 **kwargs)\n\u001b[1;32m--> 431\u001b[1;33m         \u001b[1;32mreturn\u001b[0m \u001b[0mfunc\u001b[0m\u001b[1;33m(\u001b[0m\u001b[1;33m*\u001b[0m\u001b[0minner_args\u001b[0m\u001b[1;33m,\u001b[0m \u001b[1;33m**\u001b[0m\u001b[0minner_kwargs\u001b[0m\u001b[1;33m)\u001b[0m\u001b[1;33m\u001b[0m\u001b[1;33m\u001b[0m\u001b[0m\n\u001b[0m\u001b[0;32m    432\u001b[0m \u001b[1;33m\u001b[0m\u001b[0m\n\u001b[0;32m    433\u001b[0m     \u001b[1;32mreturn\u001b[0m \u001b[0mwrapper\u001b[0m\u001b[1;33m\u001b[0m\u001b[1;33m\u001b[0m\u001b[0m\n",
      "\u001b[1;32m~\\anaconda3\\lib\\site-packages\\matplotlib\\axes\\_base.py\u001b[0m in \u001b[0;36mdraw\u001b[1;34m(self, renderer, inframe)\u001b[0m\n\u001b[0;32m   2919\u001b[0m             \u001b[0mrenderer\u001b[0m\u001b[1;33m.\u001b[0m\u001b[0mstop_rasterizing\u001b[0m\u001b[1;33m(\u001b[0m\u001b[1;33m)\u001b[0m\u001b[1;33m\u001b[0m\u001b[1;33m\u001b[0m\u001b[0m\n\u001b[0;32m   2920\u001b[0m \u001b[1;33m\u001b[0m\u001b[0m\n\u001b[1;32m-> 2921\u001b[1;33m         \u001b[0mmimage\u001b[0m\u001b[1;33m.\u001b[0m\u001b[0m_draw_list_compositing_images\u001b[0m\u001b[1;33m(\u001b[0m\u001b[0mrenderer\u001b[0m\u001b[1;33m,\u001b[0m \u001b[0mself\u001b[0m\u001b[1;33m,\u001b[0m \u001b[0martists\u001b[0m\u001b[1;33m)\u001b[0m\u001b[1;33m\u001b[0m\u001b[1;33m\u001b[0m\u001b[0m\n\u001b[0m\u001b[0;32m   2922\u001b[0m \u001b[1;33m\u001b[0m\u001b[0m\n\u001b[0;32m   2923\u001b[0m         \u001b[0mrenderer\u001b[0m\u001b[1;33m.\u001b[0m\u001b[0mclose_group\u001b[0m\u001b[1;33m(\u001b[0m\u001b[1;34m'axes'\u001b[0m\u001b[1;33m)\u001b[0m\u001b[1;33m\u001b[0m\u001b[1;33m\u001b[0m\u001b[0m\n",
      "\u001b[1;32m~\\anaconda3\\lib\\site-packages\\matplotlib\\image.py\u001b[0m in \u001b[0;36m_draw_list_compositing_images\u001b[1;34m(renderer, parent, artists, suppress_composite)\u001b[0m\n\u001b[0;32m    130\u001b[0m     \u001b[1;32mif\u001b[0m \u001b[0mnot_composite\u001b[0m \u001b[1;32mor\u001b[0m \u001b[1;32mnot\u001b[0m \u001b[0mhas_images\u001b[0m\u001b[1;33m:\u001b[0m\u001b[1;33m\u001b[0m\u001b[1;33m\u001b[0m\u001b[0m\n\u001b[0;32m    131\u001b[0m         \u001b[1;32mfor\u001b[0m \u001b[0ma\u001b[0m \u001b[1;32min\u001b[0m \u001b[0martists\u001b[0m\u001b[1;33m:\u001b[0m\u001b[1;33m\u001b[0m\u001b[1;33m\u001b[0m\u001b[0m\n\u001b[1;32m--> 132\u001b[1;33m             \u001b[0ma\u001b[0m\u001b[1;33m.\u001b[0m\u001b[0mdraw\u001b[0m\u001b[1;33m(\u001b[0m\u001b[0mrenderer\u001b[0m\u001b[1;33m)\u001b[0m\u001b[1;33m\u001b[0m\u001b[1;33m\u001b[0m\u001b[0m\n\u001b[0m\u001b[0;32m    133\u001b[0m     \u001b[1;32melse\u001b[0m\u001b[1;33m:\u001b[0m\u001b[1;33m\u001b[0m\u001b[1;33m\u001b[0m\u001b[0m\n\u001b[0;32m    134\u001b[0m         \u001b[1;31m# Composite any adjacent images together\u001b[0m\u001b[1;33m\u001b[0m\u001b[1;33m\u001b[0m\u001b[1;33m\u001b[0m\u001b[0m\n",
      "\u001b[1;32m~\\anaconda3\\lib\\site-packages\\matplotlib\\patches.py\u001b[0m in \u001b[0;36mdraw\u001b[1;34m(self, renderer)\u001b[0m\n\u001b[0;32m   4242\u001b[0m             \u001b[1;31m# too.\u001b[0m\u001b[1;33m\u001b[0m\u001b[1;33m\u001b[0m\u001b[1;33m\u001b[0m\u001b[0m\n\u001b[0;32m   4243\u001b[0m             \u001b[0mself\u001b[0m\u001b[1;33m.\u001b[0m\u001b[0m_dpi_cor\u001b[0m \u001b[1;33m=\u001b[0m \u001b[0mrenderer\u001b[0m\u001b[1;33m.\u001b[0m\u001b[0mpoints_to_pixels\u001b[0m\u001b[1;33m(\u001b[0m\u001b[1;36m1.\u001b[0m\u001b[1;33m)\u001b[0m\u001b[1;33m\u001b[0m\u001b[1;33m\u001b[0m\u001b[0m\n\u001b[1;32m-> 4244\u001b[1;33m             \u001b[0mpath\u001b[0m\u001b[1;33m,\u001b[0m \u001b[0mfillable\u001b[0m \u001b[1;33m=\u001b[0m \u001b[0mself\u001b[0m\u001b[1;33m.\u001b[0m\u001b[0mget_path_in_displaycoord\u001b[0m\u001b[1;33m(\u001b[0m\u001b[1;33m)\u001b[0m\u001b[1;33m\u001b[0m\u001b[1;33m\u001b[0m\u001b[0m\n\u001b[0m\u001b[0;32m   4245\u001b[0m \u001b[1;33m\u001b[0m\u001b[0m\n\u001b[0;32m   4246\u001b[0m             \u001b[1;32mif\u001b[0m \u001b[1;32mnot\u001b[0m \u001b[0mnp\u001b[0m\u001b[1;33m.\u001b[0m\u001b[0miterable\u001b[0m\u001b[1;33m(\u001b[0m\u001b[0mfillable\u001b[0m\u001b[1;33m)\u001b[0m\u001b[1;33m:\u001b[0m\u001b[1;33m\u001b[0m\u001b[1;33m\u001b[0m\u001b[0m\n",
      "\u001b[1;32m~\\anaconda3\\lib\\site-packages\\matplotlib\\patches.py\u001b[0m in \u001b[0;36mget_path_in_displaycoord\u001b[1;34m(self)\u001b[0m\n\u001b[0;32m   4214\u001b[0m             \u001b[0mposB\u001b[0m \u001b[1;33m=\u001b[0m \u001b[0mself\u001b[0m\u001b[1;33m.\u001b[0m\u001b[0m_convert_xy_units\u001b[0m\u001b[1;33m(\u001b[0m\u001b[0mself\u001b[0m\u001b[1;33m.\u001b[0m\u001b[0m_posA_posB\u001b[0m\u001b[1;33m[\u001b[0m\u001b[1;36m1\u001b[0m\u001b[1;33m]\u001b[0m\u001b[1;33m)\u001b[0m\u001b[1;33m\u001b[0m\u001b[1;33m\u001b[0m\u001b[0m\n\u001b[0;32m   4215\u001b[0m             \u001b[1;33m(\u001b[0m\u001b[0mposA\u001b[0m\u001b[1;33m,\u001b[0m \u001b[0mposB\u001b[0m\u001b[1;33m)\u001b[0m \u001b[1;33m=\u001b[0m \u001b[0mself\u001b[0m\u001b[1;33m.\u001b[0m\u001b[0mget_transform\u001b[0m\u001b[1;33m(\u001b[0m\u001b[1;33m)\u001b[0m\u001b[1;33m.\u001b[0m\u001b[0mtransform\u001b[0m\u001b[1;33m(\u001b[0m\u001b[1;33m(\u001b[0m\u001b[0mposA\u001b[0m\u001b[1;33m,\u001b[0m \u001b[0mposB\u001b[0m\u001b[1;33m)\u001b[0m\u001b[1;33m)\u001b[0m\u001b[1;33m\u001b[0m\u001b[1;33m\u001b[0m\u001b[0m\n\u001b[1;32m-> 4216\u001b[1;33m             _path = self.get_connectionstyle()(posA, posB,\n\u001b[0m\u001b[0;32m   4217\u001b[0m                                                \u001b[0mpatchA\u001b[0m\u001b[1;33m=\u001b[0m\u001b[0mself\u001b[0m\u001b[1;33m.\u001b[0m\u001b[0mpatchA\u001b[0m\u001b[1;33m,\u001b[0m\u001b[1;33m\u001b[0m\u001b[1;33m\u001b[0m\u001b[0m\n\u001b[0;32m   4218\u001b[0m                                                \u001b[0mpatchB\u001b[0m\u001b[1;33m=\u001b[0m\u001b[0mself\u001b[0m\u001b[1;33m.\u001b[0m\u001b[0mpatchB\u001b[0m\u001b[1;33m,\u001b[0m\u001b[1;33m\u001b[0m\u001b[1;33m\u001b[0m\u001b[0m\n",
      "\u001b[1;32m~\\anaconda3\\lib\\site-packages\\matplotlib\\patches.py\u001b[0m in \u001b[0;36m__call__\u001b[1;34m(self, posA, posB, shrinkA, shrinkB, patchA, patchB)\u001b[0m\n\u001b[0;32m   2525\u001b[0m             \u001b[0mpath\u001b[0m \u001b[1;33m=\u001b[0m \u001b[0mself\u001b[0m\u001b[1;33m.\u001b[0m\u001b[0mconnect\u001b[0m\u001b[1;33m(\u001b[0m\u001b[0mposA\u001b[0m\u001b[1;33m,\u001b[0m \u001b[0mposB\u001b[0m\u001b[1;33m)\u001b[0m\u001b[1;33m\u001b[0m\u001b[1;33m\u001b[0m\u001b[0m\n\u001b[0;32m   2526\u001b[0m             \u001b[0mclipped_path\u001b[0m \u001b[1;33m=\u001b[0m \u001b[0mself\u001b[0m\u001b[1;33m.\u001b[0m\u001b[0m_clip\u001b[0m\u001b[1;33m(\u001b[0m\u001b[0mpath\u001b[0m\u001b[1;33m,\u001b[0m \u001b[0mpatchA\u001b[0m\u001b[1;33m,\u001b[0m \u001b[0mpatchB\u001b[0m\u001b[1;33m)\u001b[0m\u001b[1;33m\u001b[0m\u001b[1;33m\u001b[0m\u001b[0m\n\u001b[1;32m-> 2527\u001b[1;33m             \u001b[0mshrunk_path\u001b[0m \u001b[1;33m=\u001b[0m \u001b[0mself\u001b[0m\u001b[1;33m.\u001b[0m\u001b[0m_shrink\u001b[0m\u001b[1;33m(\u001b[0m\u001b[0mclipped_path\u001b[0m\u001b[1;33m,\u001b[0m \u001b[0mshrinkA\u001b[0m\u001b[1;33m,\u001b[0m \u001b[0mshrinkB\u001b[0m\u001b[1;33m)\u001b[0m\u001b[1;33m\u001b[0m\u001b[1;33m\u001b[0m\u001b[0m\n\u001b[0m\u001b[0;32m   2528\u001b[0m             \u001b[1;32mreturn\u001b[0m \u001b[0mshrunk_path\u001b[0m\u001b[1;33m\u001b[0m\u001b[1;33m\u001b[0m\u001b[0m\n\u001b[0;32m   2529\u001b[0m \u001b[1;33m\u001b[0m\u001b[0m\n",
      "\u001b[1;32m~\\anaconda3\\lib\\site-packages\\matplotlib\\patches.py\u001b[0m in \u001b[0;36m_shrink\u001b[1;34m(self, path, shrinkA, shrinkB)\u001b[0m\n\u001b[0;32m   2506\u001b[0m                 \u001b[0minsideA\u001b[0m \u001b[1;33m=\u001b[0m \u001b[0minside_circle\u001b[0m\u001b[1;33m(\u001b[0m\u001b[1;33m*\u001b[0m\u001b[0mpath\u001b[0m\u001b[1;33m.\u001b[0m\u001b[0mvertices\u001b[0m\u001b[1;33m[\u001b[0m\u001b[1;36m0\u001b[0m\u001b[1;33m]\u001b[0m\u001b[1;33m,\u001b[0m \u001b[0mshrinkA\u001b[0m\u001b[1;33m)\u001b[0m\u001b[1;33m\u001b[0m\u001b[1;33m\u001b[0m\u001b[0m\n\u001b[0;32m   2507\u001b[0m                 \u001b[1;32mtry\u001b[0m\u001b[1;33m:\u001b[0m\u001b[1;33m\u001b[0m\u001b[1;33m\u001b[0m\u001b[0m\n\u001b[1;32m-> 2508\u001b[1;33m                     \u001b[0mleft\u001b[0m\u001b[1;33m,\u001b[0m \u001b[0mpath\u001b[0m \u001b[1;33m=\u001b[0m \u001b[0msplit_path_inout\u001b[0m\u001b[1;33m(\u001b[0m\u001b[0mpath\u001b[0m\u001b[1;33m,\u001b[0m \u001b[0minsideA\u001b[0m\u001b[1;33m)\u001b[0m\u001b[1;33m\u001b[0m\u001b[1;33m\u001b[0m\u001b[0m\n\u001b[0m\u001b[0;32m   2509\u001b[0m                 \u001b[1;32mexcept\u001b[0m \u001b[0mValueError\u001b[0m\u001b[1;33m:\u001b[0m\u001b[1;33m\u001b[0m\u001b[1;33m\u001b[0m\u001b[0m\n\u001b[0;32m   2510\u001b[0m                     \u001b[1;32mpass\u001b[0m\u001b[1;33m\u001b[0m\u001b[1;33m\u001b[0m\u001b[0m\n",
      "\u001b[1;32m~\\anaconda3\\lib\\site-packages\\matplotlib\\bezier.py\u001b[0m in \u001b[0;36msplit_path_inout\u001b[1;34m(path, inside, tolerance, reorder_inout)\u001b[0m\n\u001b[0;32m    369\u001b[0m \u001b[1;33m\u001b[0m\u001b[0m\n\u001b[0;32m    370\u001b[0m     \u001b[0mbp\u001b[0m \u001b[1;33m=\u001b[0m \u001b[0mbezier_path\u001b[0m\u001b[1;33m.\u001b[0m\u001b[0mreshape\u001b[0m\u001b[1;33m(\u001b[0m\u001b[1;33m(\u001b[0m\u001b[1;33m-\u001b[0m\u001b[1;36m1\u001b[0m\u001b[1;33m,\u001b[0m \u001b[1;36m2\u001b[0m\u001b[1;33m)\u001b[0m\u001b[1;33m)\u001b[0m\u001b[1;33m\u001b[0m\u001b[1;33m\u001b[0m\u001b[0m\n\u001b[1;32m--> 371\u001b[1;33m     left, right = split_bezier_intersecting_with_closedpath(\n\u001b[0m\u001b[0;32m    372\u001b[0m         bp, inside, tolerance)\n\u001b[0;32m    373\u001b[0m     \u001b[1;32mif\u001b[0m \u001b[0mlen\u001b[0m\u001b[1;33m(\u001b[0m\u001b[0mleft\u001b[0m\u001b[1;33m)\u001b[0m \u001b[1;33m==\u001b[0m \u001b[1;36m2\u001b[0m\u001b[1;33m:\u001b[0m\u001b[1;33m\u001b[0m\u001b[1;33m\u001b[0m\u001b[0m\n",
      "\u001b[1;32m~\\anaconda3\\lib\\site-packages\\matplotlib\\bezier.py\u001b[0m in \u001b[0;36msplit_bezier_intersecting_with_closedpath\u001b[1;34m(bezier, inside_closedpath, tolerance)\u001b[0m\n\u001b[0;32m    332\u001b[0m     \u001b[0mbezier_point_at_t\u001b[0m \u001b[1;33m=\u001b[0m \u001b[0mbz\u001b[0m\u001b[1;33m.\u001b[0m\u001b[0mpoint_at_t\u001b[0m\u001b[1;33m\u001b[0m\u001b[1;33m\u001b[0m\u001b[0m\n\u001b[0;32m    333\u001b[0m \u001b[1;33m\u001b[0m\u001b[0m\n\u001b[1;32m--> 334\u001b[1;33m     t0, t1 = find_bezier_t_intersecting_with_closedpath(\n\u001b[0m\u001b[0;32m    335\u001b[0m         bezier_point_at_t, inside_closedpath, tolerance=tolerance)\n\u001b[0;32m    336\u001b[0m \u001b[1;33m\u001b[0m\u001b[0m\n",
      "\u001b[1;32m~\\anaconda3\\lib\\site-packages\\matplotlib\\bezier.py\u001b[0m in \u001b[0;36mfind_bezier_t_intersecting_with_closedpath\u001b[1;34m(bezier_point_at_t, inside_closedpath, t0, t1, tolerance)\u001b[0m\n\u001b[0;32m    167\u001b[0m         \u001b[1;31m# calculate the middle point\u001b[0m\u001b[1;33m\u001b[0m\u001b[1;33m\u001b[0m\u001b[1;33m\u001b[0m\u001b[0m\n\u001b[0;32m    168\u001b[0m         \u001b[0mmiddle_t\u001b[0m \u001b[1;33m=\u001b[0m \u001b[1;36m0.5\u001b[0m \u001b[1;33m*\u001b[0m \u001b[1;33m(\u001b[0m\u001b[0mt0\u001b[0m \u001b[1;33m+\u001b[0m \u001b[0mt1\u001b[0m\u001b[1;33m)\u001b[0m\u001b[1;33m\u001b[0m\u001b[1;33m\u001b[0m\u001b[0m\n\u001b[1;32m--> 169\u001b[1;33m         \u001b[0mmiddle\u001b[0m \u001b[1;33m=\u001b[0m \u001b[0mbezier_point_at_t\u001b[0m\u001b[1;33m(\u001b[0m\u001b[0mmiddle_t\u001b[0m\u001b[1;33m)\u001b[0m\u001b[1;33m\u001b[0m\u001b[1;33m\u001b[0m\u001b[0m\n\u001b[0m\u001b[0;32m    170\u001b[0m         \u001b[0mmiddle_inside\u001b[0m \u001b[1;33m=\u001b[0m \u001b[0minside_closedpath\u001b[0m\u001b[1;33m(\u001b[0m\u001b[0mmiddle\u001b[0m\u001b[1;33m)\u001b[0m\u001b[1;33m\u001b[0m\u001b[1;33m\u001b[0m\u001b[0m\n\u001b[0;32m    171\u001b[0m \u001b[1;33m\u001b[0m\u001b[0m\n",
      "\u001b[1;32m~\\anaconda3\\lib\\site-packages\\matplotlib\\bezier.py\u001b[0m in \u001b[0;36mpoint_at_t\u001b[1;34m(self, t)\u001b[0m\n\u001b[0;32m    221\u001b[0m         \u001b[0mEvaluate\u001b[0m \u001b[0mthe\u001b[0m \u001b[0mcurve\u001b[0m \u001b[0mat\u001b[0m \u001b[0ma\u001b[0m \u001b[0msingle\u001b[0m \u001b[0mpoint\u001b[0m\u001b[1;33m,\u001b[0m \u001b[0mreturning\u001b[0m \u001b[0ma\u001b[0m \u001b[0mtuple\u001b[0m \u001b[0mof\u001b[0m \u001b[1;33m*\u001b[0m\u001b[0md\u001b[0m\u001b[1;33m*\u001b[0m \u001b[0mfloats\u001b[0m\u001b[1;33m.\u001b[0m\u001b[1;33m\u001b[0m\u001b[1;33m\u001b[0m\u001b[0m\n\u001b[0;32m    222\u001b[0m         \"\"\"\n\u001b[1;32m--> 223\u001b[1;33m         \u001b[1;32mreturn\u001b[0m \u001b[0mtuple\u001b[0m\u001b[1;33m(\u001b[0m\u001b[0mself\u001b[0m\u001b[1;33m(\u001b[0m\u001b[0mt\u001b[0m\u001b[1;33m)\u001b[0m\u001b[1;33m)\u001b[0m\u001b[1;33m\u001b[0m\u001b[1;33m\u001b[0m\u001b[0m\n\u001b[0m\u001b[0;32m    224\u001b[0m \u001b[1;33m\u001b[0m\u001b[0m\n\u001b[0;32m    225\u001b[0m     \u001b[1;33m@\u001b[0m\u001b[0mproperty\u001b[0m\u001b[1;33m\u001b[0m\u001b[1;33m\u001b[0m\u001b[0m\n",
      "\u001b[1;32m~\\anaconda3\\lib\\site-packages\\matplotlib\\bezier.py\u001b[0m in \u001b[0;36m__call__\u001b[1;34m(self, t)\u001b[0m\n\u001b[0;32m    215\u001b[0m         \u001b[0mt\u001b[0m \u001b[1;33m=\u001b[0m \u001b[0mnp\u001b[0m\u001b[1;33m.\u001b[0m\u001b[0masarray\u001b[0m\u001b[1;33m(\u001b[0m\u001b[0mt\u001b[0m\u001b[1;33m)\u001b[0m\u001b[1;33m\u001b[0m\u001b[1;33m\u001b[0m\u001b[0m\n\u001b[0;32m    216\u001b[0m         return (np.power.outer(1 - t, self._orders[::-1])\n\u001b[1;32m--> 217\u001b[1;33m                 * np.power.outer(t, self._orders)) @ self._px\n\u001b[0m\u001b[0;32m    218\u001b[0m \u001b[1;33m\u001b[0m\u001b[0m\n\u001b[0;32m    219\u001b[0m     \u001b[1;32mdef\u001b[0m \u001b[0mpoint_at_t\u001b[0m\u001b[1;33m(\u001b[0m\u001b[0mself\u001b[0m\u001b[1;33m,\u001b[0m \u001b[0mt\u001b[0m\u001b[1;33m)\u001b[0m\u001b[1;33m:\u001b[0m\u001b[1;33m\u001b[0m\u001b[1;33m\u001b[0m\u001b[0m\n",
      "\u001b[1;31mKeyboardInterrupt\u001b[0m: "
     ]
    }
   ],
   "source": [
    "pos = nx.spring_layout(G, k=0.6, iterations=100)\n",
    "plt.figure(3, figsize=(100, 100))\n",
    "edges, weights = zip(*nx.get_edge_attributes(G, 'weight').items())\n",
    "nx.draw(G,node_color='#add8e6', node_size=8000,arrowsize=40, pos=pos, edgelist = edges, edge_color = weights, edge_cmap = plt.cm.Greys, edge_vmin=0.0, edge_vmax=5.0, width=2.0)\n",
    "nx.draw_networkx_labels(G, font_size=30, pos=pos)\n",
    "ax=plt.gca()\n",
    "ax.collections[0].set_edgecolor(\"#000000\")\n",
    "plt.show()\n"
   ]
  },
  {
   "cell_type": "code",
   "execution_count": null,
   "metadata": {
    "id": "wnlzVSuXRheM"
   },
   "outputs": [],
   "source": [
    "num_nodes = G.number_of_nodes()\n",
    "num_edges = G.number_of_edges()\n",
    "nodes = G.nodes()\n",
    "edges = G.edges()"
   ]
  },
  {
   "cell_type": "markdown",
   "metadata": {
    "id": "e6mWqRbZaBVK"
   },
   "source": [
    "# Componenti connesse"
   ]
  },
  {
   "cell_type": "markdown",
   "metadata": {
    "id": "qONOpc9Una88"
   },
   "source": [
    "La rete non è nè una componente fortemente connessa nè una componente debolmente connessa."
   ]
  },
  {
   "cell_type": "code",
   "execution_count": null,
   "metadata": {
    "id": "JMbECaTdaD9H",
    "outputId": "d006d58a-8795-40ae-bfc2-1fc898b46372"
   },
   "outputs": [],
   "source": [
    "cprint(\"The network is a unique stongly connected component: \",'blue', end=' ') \n",
    "cprint(str(nx.is_strongly_connected(G)), 'red')\n",
    "cprint(\"The network is a unique weakly connected component: \", 'blue', end=' ')\n",
    "cprint(str(nx.is_weakly_connected(G)), 'green')"
   ]
  },
  {
   "cell_type": "code",
   "execution_count": null,
   "metadata": {},
   "outputs": [],
   "source": [
    "weakly_components = list(nx.weakly_connected_components(G))\n",
    "cprint(\"Number of components: \", 'blue', end=' ') \n",
    "cprint(str(len(weakly_components)),'green')\n",
    "\n",
    "largest_weakly = max(weakly_components, key=len)\n",
    "cprint(\"Largest component: \", 'blue', end=' ') \n",
    "cprint(str(len(largest_weakly)) + \" nodes\", 'green')"
   ]
  },
  {
   "cell_type": "markdown",
   "metadata": {
    "id": "0nY96R0QngmT"
   },
   "source": [
    "## Componenti fortemente connesse"
   ]
  },
  {
   "cell_type": "code",
   "execution_count": null,
   "metadata": {
    "id": "x5iZjX1Pa-rn",
    "outputId": "b8ab7599-c2b7-4816-961d-ea9583a94ed8"
   },
   "outputs": [],
   "source": [
    "strongly_components = list(nx.strongly_connected_components(G))\n",
    "largest_strongly = max(strongly_components, key=len)\n",
    "\n",
    "color_map = ['green' if node in largest_strongly else 'red' for node in G] \n",
    "edges, weights = zip(*nx.get_edge_attributes(G, 'weight').items())\n",
    "\n",
    "plt.figure(4, figsize=(100, 100))\n",
    "edges, weights = zip(*nx.get_edge_attributes(G, 'weight').items())\n",
    "nx.draw(G,node_color=color_map, node_size=8000,arrowsize=40, pos=pos, edgelist = edges, edge_color = weights, edge_cmap = plt.cm.Greys, edge_vmin=0.0, edge_vmax=5.0, width=2.0)\n",
    "nx.draw_networkx_labels(G, font_size=30, pos=pos)\n",
    "ax=plt.gca()\n",
    "ax.collections[0].set_edgecolor(\"#000000\")\n",
    "\n",
    "\n",
    "colors = [\"g\", \"r\"]\n",
    "texts = [\"Strongly connected nodes\", \"Weakly connected nodes\"]\n",
    "patches = [ plt.plot([],[], marker=\"o\", ms=80, ls=\"\", mec=None, color=colors[i], \n",
    "            label=\"{:s}\".format(texts[i]) )[0]  for i in range(len(texts)) ]\n",
    "patches.append(Rectangle((0, 0), 1, 1, fc=\"w\", fill=False, edgecolor='none', linewidth=0, label=('Size of largest strongest connected component: '+ str(len(largest_strongly)))))\n",
    "patches.append(Rectangle((0, 0), 1, 1, fc=\"w\", fill=False, edgecolor='none', linewidth=0, label=('Number of components: '+ str(len(strongly_components)))))\n",
    "plt.legend(handles=patches,loc=2, ncol=1, facecolor=\"#add8e6\", numpoints=1,fontsize=70)\n",
    "\n",
    "plt.show()\n",
    "plt.show()"
   ]
  },
  {
   "cell_type": "markdown",
   "metadata": {
    "id": "8npUZk4kpVXx"
   },
   "source": [
    "# Degree"
   ]
  },
  {
   "cell_type": "code",
   "execution_count": null,
   "metadata": {
    "id": "d9jsZenrtb5O",
    "outputId": "7740a6cb-ad76-4244-f465-7f6b015446fe"
   },
   "outputs": [],
   "source": [
    "degrees_sequences = {'Degree sequence':[G.degree(n) for n in G.nodes],\n",
    "'Strength degree sequence':[G.degree(n, weight='weight') for n in G.nodes],\n",
    "'In degree sequence':[G.in_degree(n) for n in G.nodes],\n",
    "'Out degree sequence':[G.out_degree(n) for n in G.nodes],\n",
    "'In-Strength sequence':[G.in_degree(n, weight='weight') for n in G.nodes],\n",
    "'Out-Strength degree sequence':[G.out_degree(n, weight='weight') for n in G.nodes]}"
   ]
  },
  {
   "cell_type": "code",
   "execution_count": null,
   "metadata": {},
   "outputs": [],
   "source": [
    "def print_degree_statistics(mu_degree, median_degree, variance_degree,sigma_degree):\n",
    "    cprint('Mean degree:', 'blue', end=' ') \n",
    "    cprint(mu_degree, 'green')\n",
    "    cprint('Median degree:','blue', end=' ') \n",
    "    cprint(median_degree, 'green')\n",
    "    cprint('Max degree:', 'blue', end=' ')\n",
    "    cprint(max(degrees_sequences['Degree sequence']), 'green')\n",
    "    cprint('Variance:', 'blue', end=' ')\n",
    "    cprint(variance_degree, 'green')\n",
    "    cprint('Standard deviation:', 'blue', end=' ')\n",
    "    cprint(sigma_degree, 'green')\n",
    "    print()\n",
    "\n",
    "    highest_degree_node = max(G.nodes, key=G.degree)\n",
    "    cprint(\"Highest degree node label:\",'blue', end=' ')\n",
    "    cprint(highest_degree_node,'green')\n",
    "    cprint(\"Maximum degree\", 'blue', end=' ')\n",
    "    cprint(max(degrees_sequences['Degree sequence']),'green')\n"
   ]
  },
  {
   "cell_type": "markdown",
   "metadata": {
    "id": "uUroWqtEi4V2"
   },
   "source": [
    "## Network statistics without weight"
   ]
  },
  {
   "cell_type": "code",
   "execution_count": null,
   "metadata": {
    "id": "s5ZlsZQcpWlK",
    "outputId": "938e874a-b4ee-4850-bae8-6ad2c8054a30"
   },
   "outputs": [],
   "source": [
    "mu_degree = statistics.mean(degrees_sequences['Degree sequence'])\n",
    "median_degree = statistics.median(degrees_sequences['Degree sequence'])\n",
    "variance_degree = statistics.variance(degrees_sequences['Degree sequence'])\n",
    "sigma_degree = statistics.stdev(degrees_sequences['Degree sequence'])\n",
    "\n",
    "print_degree_statistics(mu_degree, median_degree, variance_degree,sigma_degree)"
   ]
  },
  {
   "cell_type": "markdown",
   "metadata": {
    "id": "uUroWqtEi4V2"
   },
   "source": [
    "## Network statistics with weight"
   ]
  },
  {
   "cell_type": "code",
   "execution_count": null,
   "metadata": {
    "id": "s5ZlsZQcpWlK",
    "outputId": "938e874a-b4ee-4850-bae8-6ad2c8054a30"
   },
   "outputs": [],
   "source": [
    "mu_degree = statistics.mean(degrees_sequences['Strength degree sequence'])\n",
    "median_degree = statistics.median(degrees_sequences['Strength degree sequence'])\n",
    "variance_degree = statistics.variance(degrees_sequences['Strength degree sequence'])\n",
    "sigma_degree = statistics.stdev(degrees_sequences['Strength degree sequence'])\n",
    "\n",
    "print_degree_statistics(mu_degree, median_degree, variance_degree,sigma_degree)"
   ]
  },
  {
   "cell_type": "markdown",
   "metadata": {
    "id": "YqoSHlPDjFYD"
   },
   "source": [
    "## Degree distribution"
   ]
  },
  {
   "cell_type": "markdown",
   "metadata": {
    "id": "hv-Up5PEsIeY"
   },
   "source": [
    "### Frequency"
   ]
  },
  {
   "cell_type": "code",
   "execution_count": null,
   "metadata": {},
   "outputs": [],
   "source": [
    "degree_map = {}\n",
    "for k in degrees_sequences.keys():\n",
    "    degree_counts = Counter(degrees_sequences[k])\n",
    "    plot_x = list(np.arange(min(degree_counts.keys()), max(degree_counts.keys())+1))\n",
    "    plot_y = [degree_counts.get(x, 0) for x in plot_x]\n",
    "    degree_map[k] = { 'x': plot_x, 'y': plot_y}\n",
    "\n",
    "titles = list(degrees_sequences.keys())\n",
    "\n",
    "fig_degree, axes = plt.subplots(nrows=3, ncols=2)\n",
    "for i, ax in enumerate(axes.flatten()):\n",
    "    #ax.bar(degree_map[titles[i]][0],degree_map[titles[i]][1])\n",
    "    sns.histplot(ax=ax, data=degrees_sequences[titles[i]], kde=True, stat='frequency', bins=degree_map[titles[i]]['x'])\n",
    "    ax.set_title(titles[i],fontdict= { 'fontsize': 16, 'fontweight':'bold'})\n",
    "    ax.set_xlabel(\"Degree k\")\n",
    "    ax.set_ylabel(\"Frequency\")\n",
    "\n",
    "fig_degree.figure.set_size_inches((30,20))"
   ]
  },
  {
   "cell_type": "markdown",
   "metadata": {},
   "source": [
    "### Probability"
   ]
  },
  {
   "cell_type": "code",
   "execution_count": null,
   "metadata": {},
   "outputs": [],
   "source": [
    "def get_degree_probability(degree_counts, min_degree, max_degree):\n",
    "  degree_prob = {}\n",
    "\n",
    "  for degree in np.arange(min_degree, max_degree + 1):\n",
    "    if degree in degree_counts:\n",
    "      num_nodes_degree = degree_counts[degree]\n",
    "      prob = num_nodes_degree/num_nodes\n",
    "      degree_prob[degree] = prob\n",
    "    else:\n",
    "      degree_prob[degree] = 0\n",
    "  \n",
    "  return degree_prob\n",
    "\n",
    "\n",
    "\n",
    "fig_prob, axes = plt.subplots(nrows=3, ncols=2)\n",
    "for i, ax in enumerate(axes.flatten()):\n",
    "    #ax.bar(degree_map[titles[i]][0],degree_map[titles[i]][1])\n",
    "    degree_counts = Counter(degrees_sequences[titles[i]])\n",
    "    degree_probability = get_degree_probability(degree_counts,min(degree_counts.keys()), max(degree_counts.keys()))\n",
    "    sns.lineplot(ax=ax, data=degree_probability)\n",
    "    ax.set_title(titles[i],fontdict= { 'fontsize': 16, 'fontweight':'bold'})\n",
    "    ax.set_xlabel(\"Degree k\")\n",
    "    ax.set_ylabel(\"Probability\")\n",
    "\n",
    "fig_prob.figure.set_size_inches((30,20))  \n"
   ]
  },
  {
   "cell_type": "markdown",
   "metadata": {
    "id": "jzQ3DUaXnJf-"
   },
   "source": [
    "# Power Law and Scale Free Regime"
   ]
  },
  {
   "cell_type": "code",
   "execution_count": null,
   "metadata": {},
   "outputs": [],
   "source": [
    "# value of cdf between one, two\n",
    "# and three S.D. around the mean\n",
    "one_sd = norm.cdf(sigma_degree, mu_degree, sigma_degree) - norm.cdf(-sigma_degree, mu_degree, sigma_degree)\n",
    "two_sd = norm.cdf(2 * sigma_degree, mu_degree, sigma_degree) - norm.cdf(-2 * sigma_degree, mu_degree, sigma_degree)\n",
    "three_sd = norm.cdf(3 * sigma_degree, mu_degree, sigma_degree) - norm.cdf(-3 * sigma_degree, mu_degree, sigma_degree)\n",
    " \n",
    "# printing the value of fractions\n",
    "# within each band\n",
    "cprint(\"Fraction of values within one SD:\", 'blue', end=' ')\n",
    "cprint(round(one_sd,2),'green')\n",
    "cprint(\"Fraction of values within two SD:\", 'blue', end=' ')\n",
    "cprint(round(two_sd,2), 'green')\n",
    "cprint(\"Fraction of values within three SD:\", 'blue', end=' ') \n",
    "cprint(round(three_sd,2), \"green\")\n",
    "\n",
    "if(one_sd==0.68 and two_sd==0.95 and three_sd==0.99):\n",
    "    cprint('Bell shape distribution.', \"green\")\n",
    "else:\n",
    "    cprint('Doesn\\'t fit Bell shape distribution.', \"yellow\")"
   ]
  },
  {
   "cell_type": "code",
   "execution_count": null,
   "metadata": {},
   "outputs": [],
   "source": [
    "fit = powerlaw.Fit(degrees_sequences['Degree sequence'], xmin=28) \n",
    "\n",
    "print(fit.power_law.alpha)\n",
    "print(fit.power_law.xmin)\n",
    "\n",
    "\n",
    "fig2 = fit.plot_pdf(color='b', linewidth=2)\n",
    "fig3 = fit.power_law.plot_pdf(color='g', linestyle='--', ax=fig2)\n",
    "fig3.legend([\"Probability density function\",\"power law fit\"])\n",
    "\n",
    "R, p = fit.distribution_compare('power_law', 'exponential', normalized_ratio=True)\n",
    "print (R, p)\n",
    "\n",
    "plt.figure(figsize=(10, 6))\n",
    "fit.distribution_compare('power_law', 'lognormal')\n",
    "fig4 = fit.plot_ccdf(linewidth=3, color='black')\n",
    "fit.power_law.plot_ccdf(ax=fig4, color='r', linestyle='--') #powerlaw\n",
    "fit.lognormal.plot_ccdf(ax=fig4, color='g', linestyle='--') #lognormal\n",
    "fit.stretched_exponential.plot_ccdf(ax=fig4, color='b', linestyle='--') #stretched_exponential\n",
    "fig4.legend([\"Probability density function\",\"power law fit\", \"lognormal\", \"stretched exponential\"])"
   ]
  },
  {
   "cell_type": "markdown",
   "metadata": {},
   "source": [
    "# Centrality Measures"
   ]
  },
  {
   "cell_type": "markdown",
   "metadata": {},
   "source": [
    "## Closeness Centrality "
   ]
  },
  {
   "cell_type": "markdown",
   "metadata": {},
   "source": [
    "In a connected graph, closeness centrality (or closeness) of a node is a measure of centrality in a network, calculated as the reciprocal of the sum of the length of the shortest paths between the node and all other nodes in the graph. Thus, the more central a node is, the closer it is to all other nodes.\n",
    "The closeness centrality is normalized to (n-1)/(|G|-1) where n is the number of nodes in the connected part of graph containing the node. If the graph is not completely connected, this algorithm computes the closeness centrality for each connected part separately scaled by that parts size.\n",
    "If the ‘distance’ keyword is set to an edge attribute key then the shortest-path length will be computed using Dijkstra’s algorithm with that edge attribute as the edge weight."
   ]
  },
  {
   "cell_type": "code",
   "execution_count": null,
   "metadata": {},
   "outputs": [],
   "source": [
    "def print_closeness(closeness):\n",
    "    closeness_sequence = list(closeness.values())\n",
    "    # closeness_sequence\n",
    "    highest_closeness_node = max(G.nodes, key=closeness.get) #node id with highest closeness\n",
    "    value_highest_closeness_node = closeness[highest_closeness_node] #value of highest closeness\n",
    "    cprint('Node with highest closeness:', 'blue', end=' ')\n",
    "    cprint(highest_closeness_node,'green')\n",
    "    cprint('Value of highest closeness:', 'blue', end=' ')\n",
    "    cprint(value_highest_closeness_node,'green')\n",
    "    cprint('Mean closeness:', 'blue', end=' ')\n",
    "    cprint(statistics.mean(closeness_sequence),'green')\n",
    "    cprint('Median closeness:', 'blue', end=' ')\n",
    "    cprint(statistics.median(closeness_sequence),'green')"
   ]
  },
  {
   "cell_type": "markdown",
   "metadata": {},
   "source": [
    "### Incoming Closeness Centrality"
   ]
  },
  {
   "cell_type": "code",
   "execution_count": null,
   "metadata": {},
   "outputs": [],
   "source": [
    "in_closeness = nx.centrality.closeness_centrality(G)\n",
    "print_closeness(in_closeness)"
   ]
  },
  {
   "cell_type": "markdown",
   "metadata": {},
   "source": [
    "### Outcoming Closeness Centrality"
   ]
  },
  {
   "cell_type": "code",
   "execution_count": null,
   "metadata": {},
   "outputs": [],
   "source": [
    "out_closeness = nx.centrality.closeness_centrality(G.reverse())\n",
    "print_closeness(out_closeness)"
   ]
  },
  {
   "cell_type": "markdown",
   "metadata": {},
   "source": [
    "## Closeness Distribution"
   ]
  },
  {
   "cell_type": "code",
   "execution_count": null,
   "metadata": {},
   "outputs": [],
   "source": [
    "fig_closs, axes = plt.subplots(nrows=1, ncols=2)\n",
    "\n",
    "#plotting first graph\n",
    "sns.histplot(data=list(in_closeness.values()), bins=50, ax=axes[0]) #with edge weight\n",
    "axes[0].set_title(\"Incoming Closeness\",fontdict= { 'fontsize': 16, 'fontweight':'bold'})\n",
    "axes[0].set_xlabel(\"Closeness\")\n",
    "axes[0].set_ylabel(\"Number of nodes\")\n",
    "\n",
    "#plotting second graph\n",
    "sns.histplot(data=list(out_closeness.values()), bins=50, ax=axes[1]) #with edge weight\n",
    "axes[1].set_title(\"Outcoming Closeness\",fontdict= { 'fontsize': 16, 'fontweight':'bold'})\n",
    "axes[1].set_xlabel(\"Closeness\")\n",
    "axes[1].set_ylabel(\"Number of nodes\")\n",
    "\n",
    "fig_closs.figure.set_size_inches((15,5))"
   ]
  },
  {
   "cell_type": "markdown",
   "metadata": {},
   "source": [
    "## Betweenness of nodes"
   ]
  },
  {
   "cell_type": "markdown",
   "metadata": {},
   "source": [
    "In graph theory, betweenness centrality (or \"betweeness centrality\") is a measure of centrality in a graph based on shortest paths. For every pair of vertices in a connected graph, there exists at least one shortest path between the vertices such that either the number of edges that the path passes through (for unweighted graphs) or the sum of the weights of the edges (for weighted graphs) is minimized. The betweenness centrality for each vertex is the number of these shortest paths that pass through the vertex.\n",
    "We ignore the weight in our case because they aren't meaningful."
   ]
  },
  {
   "cell_type": "code",
   "execution_count": null,
   "metadata": {},
   "outputs": [],
   "source": [
    "betweenness_nodes = nx.betweenness_centrality(G) #betweenness of all nodes in the network\n",
    "highest_betweenness_node = max(G.nodes, key=betweenness_nodes.get) #node id with highest betweenness\n",
    "value_highest_betweenness_node = betweenness_nodes[highest_betweenness_node] #value of highest node betweenness\n",
    "betweenness_nodes_sequence = list(betweenness_nodes.values())\n",
    "cprint('Node with highest betweenness:', 'blue', end=' ') \n",
    "cprint(highest_betweenness_node, 'green')\n",
    "cprint('Value of highest betweenness node:', 'blue', end=' ') \n",
    "cprint(value_highest_betweenness_node, 'green')\n",
    "cprint('Mean betweenness of nodes:', 'blue', end=' ') \n",
    "cprint(statistics.mean(betweenness_nodes_sequence), 'green')\n",
    "cprint('Median betweenness of nodes:', 'blue', end=' ') \n",
    "cprint(statistics.median(betweenness_nodes_sequence), 'green')"
   ]
  },
  {
   "cell_type": "markdown",
   "metadata": {},
   "source": [
    "## Betweenness Of Nodes Distribution "
   ]
  },
  {
   "cell_type": "code",
   "execution_count": null,
   "metadata": {},
   "outputs": [],
   "source": [
    "sns.histplot(data=betweenness_nodes_sequence, bins=50)\n",
    "plt.ylabel(\"Number of nodes\")\n",
    "plt.xlabel(\"Node Betweenness\")\n",
    "plt.show()"
   ]
  },
  {
   "cell_type": "markdown",
   "metadata": {},
   "source": [
    "## Betweenness of edges"
   ]
  },
  {
   "cell_type": "markdown",
   "metadata": {},
   "source": [
    "Link betweenness: fraction of shortest paths among all possible node pairs that pass \n",
    "through the link.\n",
    "Weights are used to calculate weighted shortest paths, so they are interpreted as distances."
   ]
  },
  {
   "cell_type": "code",
   "execution_count": null,
   "metadata": {},
   "outputs": [],
   "source": [
    "betweenness_edges = nx.centrality.edge_betweenness(G)\n",
    "highest_betweenness_edge = max(G.edges, key=betweenness_edges.get) #edge id with highest betweenness\n",
    "value_highest_betweenness_edge = betweenness_edges[highest_betweenness_edge] #value of highest edg betweenness\n",
    "betweenness_edges_sequence = list(betweenness_edges.values())\n",
    "cprint('Edge with highest betweenness:', 'blue', end=' ') \n",
    "cprint(highest_betweenness_edge, 'green')\n",
    "cprint('Value of highest betweenness edge:', 'blue', end=' ') \n",
    "cprint(value_highest_betweenness_edge, 'green')\n",
    "cprint('Mean betweenness of edges:', 'blue', end=' ') \n",
    "cprint(statistics.mean(betweenness_edges_sequence), 'green')\n",
    "cprint('Median betweenness of edges:', 'blue', end=' ') \n",
    "cprint(statistics.median(betweenness_edges_sequence), 'green')"
   ]
  },
  {
   "cell_type": "markdown",
   "metadata": {},
   "source": [
    "## Betweenness Of Edges Distribution"
   ]
  },
  {
   "cell_type": "code",
   "execution_count": null,
   "metadata": {},
   "outputs": [],
   "source": [
    "sns.histplot(data=betweenness_edges_sequence, bins=50)\n",
    "plt.ylabel(\"Number of edges\")\n",
    "plt.xlabel(\"Edge Betweenness\")\n",
    "plt.show()"
   ]
  },
  {
   "cell_type": "markdown",
   "metadata": {
    "id": "DCGx_wkwyinn"
   },
   "source": [
    "## Assortativity: Correlation"
   ]
  },
  {
   "cell_type": "markdown",
   "metadata": {
    "id": "c-FSuEvjzz6L"
   },
   "source": [
    "Assortativity is the tendency in networks where nodes connect with other nodes similar to themselves. \n",
    "<br>Degree assortativity can be quantified as a Pearson correlation.\n",
    "\n",
    "*   r = 1:  assortative\n",
    "*   r = 0:  neutral (non-assortative)\n",
    "*   r = -1: disassortative"
   ]
  },
  {
   "cell_type": "markdown",
   "metadata": {},
   "source": [
    "## Assortativity: Weighted Degree Correlation"
   ]
  },
  {
   "cell_type": "code",
   "execution_count": null,
   "metadata": {},
   "outputs": [],
   "source": [
    "matrix_k_k2=[]\n",
    "\n",
    "for n in G.nodes:\n",
    "    matrix_k_k2.append([G.degree(n,weight='weight'),nx.average_neighbor_degree(G, nodes=G.subgraph(n), weight='weight')[n]])\n",
    "   \n",
    "g = sns.regplot(data=pd.DataFrame(np.array(matrix_k_k2), columns=['weighted k', 'knn(k)']), x=\"weighted k\", y=\"knn(k)\",ci=None)\n",
    "g.set_title(\"Strength Assortativity\",fontdict= { 'fontsize': 16, 'fontweight':'bold'})\n",
    "#g.set_yscale(\"log\")\n",
    "#g.set_xscale(\"log\")\n"
   ]
  },
  {
   "cell_type": "markdown",
   "metadata": {},
   "source": [
    "## Degree Correlation"
   ]
  },
  {
   "cell_type": "code",
   "execution_count": null,
   "metadata": {},
   "outputs": [],
   "source": [
    "matrix_k_k2=[]\n",
    "\n",
    "for n in G.nodes:\n",
    "    matrix_k_k2.append([G.degree(n),nx.average_neighbor_degree(G, nodes=G.subgraph(n))[n]])\n",
    "\n",
    "g = sns.regplot(data=pd.DataFrame(np.array(matrix_k_k2), columns=['k', 'knn(k)']), x=\"k\", y=\"knn(k)\",ci=None)\n",
    "g.set_title(\"Assortativity\",fontdict= { 'fontsize': 16, 'fontweight':'bold'})\n",
    "#g.set_yscale(\"log\")\n",
    "#g.set_xscale(\"log\")\n"
   ]
  },
  {
   "cell_type": "markdown",
   "metadata": {},
   "source": [
    "## Assortativity Correlation Coefficient"
   ]
  },
  {
   "cell_type": "code",
   "execution_count": null,
   "metadata": {},
   "outputs": [],
   "source": [
    "assortativity_data_1 = pd.DataFrame({'Type':'out-in', 'Pearson correlation coefficient' : [nx.degree_pearson_correlation_coefficient(G, x='out', y='in')]})\n",
    "assortativity_data_2 = pd.DataFrame({'Type':'in-out', 'Pearson correlation coefficient' : [nx.degree_pearson_correlation_coefficient(G, x='in', y='out')]})\n",
    "assortativity_data_3 = pd.DataFrame({'Type':'out-out', 'Pearson correlation coefficient' : [nx.degree_pearson_correlation_coefficient(G, x='out', y='out')]})\n",
    "assortativity_data_4 = pd.DataFrame({'Type':'in-in', 'Pearson correlation coefficient' : [nx.degree_pearson_correlation_coefficient(G, x='in', y='in')]})\n",
    "\n",
    "assortativity_data = pd.concat([assortativity_data_1,assortativity_data_2,assortativity_data_3,assortativity_data_4])\n",
    "\n",
    "w_assortativity_data_1 = pd.DataFrame({'Type':'out-in', 'Pearson correlation coefficient' : [nx.degree_pearson_correlation_coefficient(G, x='out', y='in', weight='weight')]})\n",
    "w_assortativity_data_2 = pd.DataFrame({'Type':'in-out', 'Pearson correlation coefficient' : [nx.degree_pearson_correlation_coefficient(G, x='in', y='out', weight='weight')]})\n",
    "w_assortativity_data_3 = pd.DataFrame({'Type':'out-out', 'Pearson correlation coefficient' : [nx.degree_pearson_correlation_coefficient(G, x='out', y='out', weight='weight')]})\n",
    "w_assortativity_data_4 = pd.DataFrame({'Type':'in-in', 'Pearson correlation coefficient' : [nx.degree_pearson_correlation_coefficient(G, x='in', y='in', weight='weight')]})\n",
    "\n",
    "w_assortativity_data = pd.concat([w_assortativity_data_1,w_assortativity_data_2,w_assortativity_data_3,w_assortativity_data_4])\n",
    "\n",
    "#Creating figure area\n",
    "fig_ass, axes = plt.subplots(nrows=1, ncols=2)\n",
    "\n",
    "#plotting first graph\n",
    "sns.barplot(\n",
    "    data=assortativity_data,\n",
    "    x='Type', y='Pearson correlation coefficient',\n",
    "    ax=axes[0]\n",
    ")\n",
    "axes[0].set_title('Unweighted',fontdict= { 'fontsize': 16, 'fontweight':'bold'})\n",
    "\n",
    "#plotting second graph\n",
    "sns.barplot(\n",
    "    data=w_assortativity_data,\n",
    "    x='Type', y='Pearson correlation coefficient',\n",
    "    ax=axes[1]\n",
    ")\n",
    "axes[1].set_title('Weighted',fontdict= { 'fontsize': 16, 'fontweight':'bold'})\n",
    "\n",
    "\n",
    "fig_ass.figure.set_size_inches((15,5))\n"
   ]
  },
  {
   "cell_type": "code",
   "execution_count": null,
   "metadata": {},
   "outputs": [],
   "source": [
    "asso_test=nx.degree_pearson_correlation_coefficient(G)\n",
    "if(round(asso_test,1)>=0.1): cprint('Assortative network', 'yellow')\n",
    "if(round(asso_test,1)==0): cprint('Neutral network', 'yellow')\n",
    "if(round(asso_test,1)<0): cprint('Disassortative network', 'yellow')\n"
   ]
  },
  {
   "cell_type": "markdown",
   "metadata": {
    "id": "aAS7r6rs2apM"
   },
   "source": [
    "## k-nearest neighbours \n",
    "The average degree connectivity is the average nearest neighbor degree of nodes with degree k."
   ]
  },
  {
   "cell_type": "code",
   "execution_count": null,
   "metadata": {
    "id": "3XEpbWhv1IP5"
   },
   "outputs": [],
   "source": [
    "avg_weighted_degree_connectivity = nx.average_degree_connectivity(G,weight='weight')\n",
    "avg_degree_connectivity = nx.average_degree_connectivity(G)\n",
    "\n",
    "\n",
    "\n",
    "#Creating figure area\n",
    "fig_knearest, axes = plt.subplots(nrows=1, ncols=2)\n",
    "\n",
    "sns.scatterplot(data=avg_degree_connectivity,\n",
    "    ax=axes[0])\n",
    "axes[0].set_title('Unweighted',fontdict= { 'fontsize': 16, 'fontweight':'bold'})\n",
    "axes[0].set_xlabel(\"Degree\")\n",
    "axes[0].set_ylabel(\"Average degree connectivity\")\n",
    "\n",
    "sns.scatterplot(data=avg_weighted_degree_connectivity,\n",
    "    ax=axes[1])\n",
    "axes[1].set_title('Weighted',fontdict= { 'fontsize': 16, 'fontweight':'bold'})\n",
    "axes[1].set_xlabel(\"Degree\")\n",
    "axes[1].set_ylabel(\"Average weighted degree connectivity\")\n",
    "\n",
    "\n",
    "fig_knearest.figure.set_size_inches((15,5))"
   ]
  },
  {
   "cell_type": "markdown",
   "metadata": {
    "id": "3IWJ0jttb5M9"
   },
   "source": [
    "# Distance"
   ]
  },
  {
   "cell_type": "markdown",
   "metadata": {
    "id": "ThwpKGfxp2_V"
   },
   "source": [
    "## Average shortest path length"
   ]
  },
  {
   "cell_type": "code",
   "execution_count": null,
   "metadata": {
    "id": "9SJ0xveKp860"
   },
   "outputs": [],
   "source": [
    "avg_short_path = nx.average_shortest_path_length(G)\n",
    "cprint(\"Average shortest path length: \", 'blue', end=' ')\n",
    "cprint(round(avg_short_path,2), 'green')\n",
    "\n",
    "if(math.isclose(math.log(G.number_of_nodes(),10),avg_short_path,abs_tol=0.5)):\n",
    "    cprint(\"Small-word\", 'yellow')\n",
    "else:\n",
    "    cprint(\"NOT Small-word \", 'yellow')\n",
    "\n"
   ]
  },
  {
   "cell_type": "markdown",
   "metadata": {
    "id": "VF-KDnaA0RlM"
   },
   "source": [
    "## Shortest path length distribution"
   ]
  },
  {
   "cell_type": "code",
   "execution_count": null,
   "metadata": {
    "id": "Jljr3Ec_utyV"
   },
   "outputs": [],
   "source": [
    "shortest_path_lengths = dict(nx.shortest_path_length(G))\n",
    "#counting how many paths have certain length\n",
    "shortest_length_counts = Counter()\n",
    "for i in range(num_nodes):\n",
    "    if(i!=0):\n",
    "        shortest_length_counts.update(Counter(shortest_path_lengths[i].values()))"
   ]
  },
  {
   "cell_type": "code",
   "execution_count": null,
   "metadata": {
    "id": "-STr3JJ0xKvC"
   },
   "outputs": [],
   "source": [
    "#shortest path length minimo e massimo\n",
    "min_length, max_length = min(shortest_length_counts.keys()), max(shortest_length_counts.keys())\n",
    "\n",
    "#asse x: shortest path length\n",
    "shortest_length_plot_x = list(range(min_length, max_length + 1))\n",
    "\n",
    "#asse y: num of paths\n",
    "shortest_length_plot_y = [shortest_length_counts.get(x, 0) for x in shortest_length_plot_x]\n",
    "\n",
    "plt.bar(shortest_length_plot_x, shortest_length_plot_y)\n",
    "\n",
    "plt.xlabel(\"Shortest path length\")\n",
    "plt.ylabel(\"Number of paths\")"
   ]
  },
  {
   "cell_type": "markdown",
   "metadata": {
    "id": "eLij74Pxmijj"
   },
   "source": [
    "Function that returns the probability that a path has a certain length"
   ]
  },
  {
   "cell_type": "code",
   "execution_count": null,
   "metadata": {
    "id": "2DoAYtSFfbSE"
   },
   "outputs": [],
   "source": [
    "def get_shortest_path_length_probability(shortest_length_counts, min_length, max_length):\n",
    "  length_prob = {}\n",
    "  num_path = sum(shortest_length_counts.values())\n",
    "\n",
    "  for length in range(min_length, max_length + 1):\n",
    "    if length in shortest_length_counts:\n",
    "      num_path_length = shortest_length_counts[length]\n",
    "      prob = num_path_length/num_path\n",
    "      length_prob[length] = prob\n",
    "    else:\n",
    "      length_prob[length] = 0\n",
    "  \n",
    "  return length_prob"
   ]
  },
  {
   "cell_type": "code",
   "execution_count": null,
   "metadata": {
    "id": "jOk54y4Kgzif"
   },
   "outputs": [],
   "source": [
    "length_probability = get_shortest_path_length_probability(shortest_length_counts, min_length, max_length)\n",
    "\n",
    "shortest_length_plot_y_prob = [length_probability[x] for x in shortest_length_plot_x]\n",
    "\n",
    "plt.plot(shortest_length_plot_x, shortest_length_plot_y_prob)\n",
    "plt.xlabel(\"Shortest path length\")\n",
    "plt.ylabel(\"Shortest path length probability\")"
   ]
  },
  {
   "cell_type": "markdown",
   "metadata": {
    "id": "19Gu9qEH0Fxt"
   },
   "source": [
    "# Diameter"
   ]
  },
  {
   "cell_type": "markdown",
   "metadata": {
    "id": "vOKRFHV9m7Hw"
   },
   "source": [
    "Diameter of the largest strongly connected component"
   ]
  },
  {
   "cell_type": "code",
   "execution_count": null,
   "metadata": {
    "id": "jH0PoyrtyJlR"
   },
   "outputs": [],
   "source": [
    "diameter = nx.diameter(G.subgraph(largest_strongly))"
   ]
  },
  {
   "cell_type": "code",
   "execution_count": null,
   "metadata": {
    "id": "_HSGkwop0fdS"
   },
   "outputs": [],
   "source": [
    "cprint(\"Diameter: \", 'blue', end=' ')\n",
    "cprint(diameter, 'green')"
   ]
  },
  {
   "cell_type": "markdown",
   "metadata": {
    "id": "hxA2sulonTb1"
   },
   "source": [
    "# Clustering coefficient"
   ]
  },
  {
   "cell_type": "markdown",
   "metadata": {},
   "source": [
    "## Triangle"
   ]
  },
  {
   "cell_type": "markdown",
   "metadata": {
    "id": "F6-waiodpehW"
   },
   "source": [
    "Number of triangles that include a node as a vertex.<br>\n",
    "Graph is trasformed to undirected.<br>\n",
    "When calculating the number of triangles for the whole graph, each triangle is counted 3 times, one for each node.<br>\n",
    "Self loops are ignored."
   ]
  },
  {
   "cell_type": "code",
   "execution_count": null,
   "metadata": {
    "id": "uKFNpLjlnSv5"
   },
   "outputs": [],
   "source": [
    "triangles = nx.triangles(G.to_undirected())\n",
    "num_triangles = sum(triangles.values())\n",
    "cprint(\"Triangle counts: \", 'blue', end=' ')\n",
    "cprint(int(num_triangles/3), 'green')"
   ]
  },
  {
   "cell_type": "code",
   "execution_count": null,
   "metadata": {},
   "outputs": [],
   "source": [
    "clustering_coefficient = nx.clustering(G)\n",
    "weighted_clustering_coefficient = nx.clustering(G, weight='weight')"
   ]
  },
  {
   "cell_type": "code",
   "execution_count": null,
   "metadata": {
    "id": "pq_B74dfqpX6"
   },
   "outputs": [],
   "source": [
    "#Creating figure area\n",
    "fig_clustering, axes = plt.subplots(nrows=1, ncols=2)\n",
    "\n",
    "#Clustering min max\n",
    "min_clustering, max_clustering = min(clustering_coefficient.keys()), max(clustering_coefficient.keys())\n",
    "clustering_plot_x = list(range(min_clustering, max_clustering + 1))\n",
    "clustering_plot_y = [clustering_coefficient[key] for key in clustering_plot_x]\n",
    "\n",
    "axes[0].bar(clustering_plot_x, clustering_plot_y)\n",
    "axes[0].set_xlabel('Node label')\n",
    "axes[0].set_ylabel('Clustering coefficient')\n",
    "axes[0].set_title('Unweighted',fontdict= { 'fontsize': 16, 'fontweight':'bold'})\n",
    "\n",
    "#Weighted clustering min and max\n",
    "min_clustering, max_clustering = min(weighted_clustering_coefficient.keys()), max(weighted_clustering_coefficient.keys())\n",
    "clustering_plot_x = list(range(min_clustering, max_clustering + 1))\n",
    "clustering_plot_y = [weighted_clustering_coefficient[key] for key in clustering_plot_x]\n",
    "\n",
    "axes[1].bar(clustering_plot_x, clustering_plot_y)\n",
    "axes[1].set_xlabel('Node label')\n",
    "axes[1].set_ylabel('Weighted Clustering coefficient')\n",
    "axes[1].set_title('Weighted',fontdict= { 'fontsize': 16, 'fontweight':'bold'})\n",
    "\n",
    "fig_clustering.figure.set_size_inches((15,5))"
   ]
  },
  {
   "cell_type": "code",
   "execution_count": null,
   "metadata": {
    "id": "xBIbSNQyrubg"
   },
   "outputs": [],
   "source": [
    "avg_clustering = nx.average_clustering(G)\n",
    "weighted_avg_clustering = nx.average_clustering(G, weight='weight')\n",
    "cprint(\"Average weighted clustering coefficient:\", 'blue', end=' ')\n",
    "cprint(round(weighted_avg_clustering, 4), 'green')\n",
    "cprint(\"Average clustering coefficient:\", 'blue', end=' ')\n",
    "cprint(round(avg_clustering, 4), 'green')"
   ]
  },
  {
   "cell_type": "markdown",
   "metadata": {
    "id": "1IbTRCtg6Zgr"
   },
   "source": [
    "# Communities"
   ]
  },
  {
   "cell_type": "markdown",
   "metadata": {
    "id": "_F46-aaS6bRo"
   },
   "source": [
    "## Girvan–Newman\n",
    "Funzione che trova le comunità in un grafo G usando il metodo di Girvan-Newman.\n",
    "\n",
    "L'algoritmo di Girvan-Newman rileva le comunità rimuovendo progressivamente gli archi dal grafo originale. L'algoritmo rimuove l'arco con la più alta centralità (betweenness) tra gli elementi, ad ogni step. Quando il grafico si scompone in pezzi, viene esposta la struttura della comunità strettamente unita e il risultato può essere rappresentato come un dendrogramma."
   ]
  },
  {
   "cell_type": "code",
   "execution_count": null,
   "metadata": {},
   "outputs": [
    {
     "ename": "KeyboardInterrupt",
     "evalue": "",
     "output_type": "error",
     "traceback": [
      "\u001b[1;31m---------------------------------------------------------------------------\u001b[0m",
      "\u001b[1;31mKeyboardInterrupt\u001b[0m                         Traceback (most recent call last)",
      "\u001b[1;32m<ipython-input-52-d135c27fb62e>\u001b[0m in \u001b[0;36m<module>\u001b[1;34m\u001b[0m\n\u001b[0;32m     18\u001b[0m \u001b[1;32mfor\u001b[0m \u001b[0mnode_id1\u001b[0m\u001b[1;33m,\u001b[0m \u001b[0mnode_id2\u001b[0m \u001b[1;32min\u001b[0m \u001b[0mcombinations\u001b[0m\u001b[1;33m(\u001b[0m\u001b[0minit_node2community_dict\u001b[0m\u001b[1;33m.\u001b[0m\u001b[0mkeys\u001b[0m\u001b[1;33m(\u001b[0m\u001b[1;33m)\u001b[0m\u001b[1;33m,\u001b[0m \u001b[1;36m2\u001b[0m\u001b[1;33m)\u001b[0m\u001b[1;33m:\u001b[0m\u001b[1;33m\u001b[0m\u001b[1;33m\u001b[0m\u001b[0m\n\u001b[0;32m     19\u001b[0m     \u001b[1;32mfor\u001b[0m \u001b[0mnode_id_parent\u001b[0m\u001b[1;33m,\u001b[0m \u001b[0mgroup\u001b[0m \u001b[1;32min\u001b[0m \u001b[0minit_node2community_dict\u001b[0m\u001b[1;33m.\u001b[0m\u001b[0mitems\u001b[0m\u001b[1;33m(\u001b[0m\u001b[1;33m)\u001b[0m\u001b[1;33m:\u001b[0m\u001b[1;33m\u001b[0m\u001b[1;33m\u001b[0m\u001b[0m\n\u001b[1;32m---> 20\u001b[1;33m         \u001b[1;32mif\u001b[0m \u001b[0mlen\u001b[0m\u001b[1;33m(\u001b[0m\u001b[0minit_node2community_dict\u001b[0m\u001b[1;33m[\u001b[0m\u001b[0mnode_id1\u001b[0m\u001b[1;33m]\u001b[0m\u001b[1;33m.\u001b[0m\u001b[0mintersection\u001b[0m\u001b[1;33m(\u001b[0m\u001b[0minit_node2community_dict\u001b[0m\u001b[1;33m[\u001b[0m\u001b[0mnode_id2\u001b[0m\u001b[1;33m]\u001b[0m\u001b[1;33m)\u001b[0m\u001b[1;33m)\u001b[0m \u001b[1;33m==\u001b[0m \u001b[1;36m0\u001b[0m \u001b[1;32mand\u001b[0m \u001b[0mgroup\u001b[0m \u001b[1;33m==\u001b[0m \u001b[0minit_node2community_dict\u001b[0m\u001b[1;33m[\u001b[0m\u001b[0mnode_id1\u001b[0m\u001b[1;33m]\u001b[0m\u001b[1;33m.\u001b[0m\u001b[0munion\u001b[0m\u001b[1;33m(\u001b[0m\u001b[0minit_node2community_dict\u001b[0m\u001b[1;33m[\u001b[0m\u001b[0mnode_id2\u001b[0m\u001b[1;33m]\u001b[0m\u001b[1;33m)\u001b[0m\u001b[1;33m:\u001b[0m\u001b[1;33m\u001b[0m\u001b[1;33m\u001b[0m\u001b[0m\n\u001b[0m\u001b[0;32m     21\u001b[0m             \u001b[0mnode_id_to_children\u001b[0m\u001b[1;33m[\u001b[0m\u001b[0mnode_id_parent\u001b[0m\u001b[1;33m]\u001b[0m\u001b[1;33m.\u001b[0m\u001b[0mappend\u001b[0m\u001b[1;33m(\u001b[0m\u001b[0mnode_id1\u001b[0m\u001b[1;33m)\u001b[0m\u001b[1;33m\u001b[0m\u001b[1;33m\u001b[0m\u001b[0m\n\u001b[0;32m     22\u001b[0m             \u001b[0mnode_id_to_children\u001b[0m\u001b[1;33m[\u001b[0m\u001b[0mnode_id_parent\u001b[0m\u001b[1;33m]\u001b[0m\u001b[1;33m.\u001b[0m\u001b[0mappend\u001b[0m\u001b[1;33m(\u001b[0m\u001b[0mnode_id2\u001b[0m\u001b[1;33m)\u001b[0m\u001b[1;33m\u001b[0m\u001b[1;33m\u001b[0m\u001b[0m\n",
      "\u001b[1;31mKeyboardInterrupt\u001b[0m: "
     ]
    }
   ],
   "source": [
    "# https://stackoverflow.com/questions/59821151/plot-the-dendrogram-of-communities-found-by-networkx-girvan-newman-algorithm\n",
    "\n",
    "from itertools import chain, combinations\n",
    "from scipy.cluster.hierarchy import dendrogram\n",
    "\n",
    "# get Graph and Girvan-Newman communities list\n",
    "communities = list(nx.community.girvan_newman(G))\n",
    "\n",
    "# building initial dict of node_id to each possible subset:\n",
    "node_id = 0\n",
    "init_node2community_dict = {node_id: communities[0][0].union(communities[0][1])}\n",
    "for comm in communities:\n",
    "    for subset in list(comm):\n",
    "        if subset not in init_node2community_dict.values():\n",
    "            node_id += 1\n",
    "            init_node2community_dict[node_id] = subset\n",
    "\n",
    "# turning this dictionary to the desired format in @mdml's answer\n",
    "node_id_to_children = {e: [] for e in init_node2community_dict.keys()}\n",
    "for node_id1, node_id2 in combinations(init_node2community_dict.keys(), 2):\n",
    "    for node_id_parent, group in init_node2community_dict.items():\n",
    "        if len(init_node2community_dict[node_id1].intersection(init_node2community_dict[node_id2])) == 0 and group == init_node2community_dict[node_id1].union(init_node2community_dict[node_id2]):\n",
    "            node_id_to_children[node_id_parent].append(node_id1)\n",
    "            node_id_to_children[node_id_parent].append(node_id2)\n",
    "\n",
    "# also recording node_labels dict for the correct label for dendrogram leaves\n",
    "node_labels = dict()\n",
    "for node_id, group in init_node2community_dict.items():\n",
    "    if len(group) == 1:\n",
    "        node_labels[node_id] = list(group)[0]\n",
    "    else:\n",
    "        node_labels[node_id] = ''\n",
    "\n",
    "# also needing a subset to rank dict to later know within all k-length merges which came first\n",
    "subset_rank_dict = dict()\n",
    "rank = 0\n",
    "for e in communities[::-1]:\n",
    "    for p in list(e):\n",
    "        if tuple(p) not in subset_rank_dict:\n",
    "            subset_rank_dict[tuple(sorted(p))] = rank\n",
    "            rank += 1\n",
    "subset_rank_dict[tuple(sorted(chain.from_iterable(communities[-1])))] = rank\n",
    "\n",
    "# my function to get a merge height so that it is unique (probably not that efficient)\n",
    "def get_merge_height(sub):\n",
    "    sub_tuple = tuple(sorted([node_labels[i] for i in sub]))\n",
    "    n = len(sub_tuple)\n",
    "    other_same_len_merges = {k: v for k, v in subset_rank_dict.items() if len(k) == n}\n",
    "    min_rank, max_rank = min(other_same_len_merges.values()), max(other_same_len_merges.values())\n",
    "    range = (max_rank-min_rank) if max_rank > min_rank else 1\n",
    "    return float(len(sub)) + 0.8 * (subset_rank_dict[sub_tuple] - min_rank) / range\n",
    "\n",
    "# finally using @mdml's magic, slightly modified:\n",
    "G           = nx.DiGraph(node_id_to_children)\n",
    "nodes       = G.nodes()\n",
    "leaves      = set( n for n in nodes if G.out_degree(n) == 0 )\n",
    "inner_nodes = [ n for n in nodes if G.out_degree(n) > 0 ]\n",
    "\n",
    "# Compute the size of each subtree\n",
    "subtree = dict( (n, [n]) for n in leaves )\n",
    "for u in inner_nodes:\n",
    "    children = set()\n",
    "    node_list = list(node_id_to_children[u])\n",
    "    while len(node_list) > 0:\n",
    "        v = node_list.pop(0)\n",
    "        children.add( v )\n",
    "        node_list += node_id_to_children[v]\n",
    "    subtree[u] = sorted(children & leaves)\n",
    "\n",
    "inner_nodes.sort(key=lambda n: len(subtree[n])) # <-- order inner nodes ascending by subtree size, root is last\n",
    "\n",
    "# Construct the linkage matrix\n",
    "leaves = sorted(leaves)\n",
    "index  = dict( (tuple([n]), i) for i, n in enumerate(leaves) )\n",
    "Z = []\n",
    "k = len(leaves)\n",
    "for i, n in enumerate(inner_nodes):\n",
    "    children = node_id_to_children[n]\n",
    "    x = children[0]\n",
    "    for y in children[1:]:\n",
    "        z = tuple(sorted(subtree[x] + subtree[y]))\n",
    "        i, j = index[tuple(sorted(subtree[x]))], index[tuple(sorted(subtree[y]))]\n",
    "        Z.append([i, j, get_merge_height(subtree[n]), len(z)]) # <-- float is required by the dendrogram function\n",
    "        index[z] = k\n",
    "        subtree[z] = list(z)\n",
    "        x = z\n",
    "        k += 1\n",
    "\n",
    "# dendrogram\n",
    "plt.figure()\n",
    "dendrogram(Z, labels=[node_labels[node_id] for node_id in leaves])\n",
    "plt.savefig('dendrogram.png')"
   ]
  },
  {
   "cell_type": "markdown",
   "metadata": {},
   "source": [
    "## QUALITY OF PARTITIONS"
   ]
  },
  {
   "cell_type": "code",
   "execution_count": 19,
   "metadata": {},
   "outputs": [
    {
     "name": "stdout",
     "output_type": "stream",
     "text": [
      "0.0\n",
      "0.34840580646161823\n",
      "0.3870592307808582\n",
      "0.3873558391370008\n",
      "0.38647373140698094\n",
      "0.3857358851475516\n",
      "0.40248129484031264\n",
      "0.40272937843746687\n",
      "0.4008514763992258\n",
      "0.4001221940542778\n",
      "0.3994706985543327\n",
      "0.3985288151920015\n",
      "0.40662594725728\n",
      "0.4185044892579557\n",
      "0.4172194849323201\n",
      "0.4134997400888763\n",
      "0.414221918556339\n",
      "0.4132199160235797\n",
      "0.4170065281076017\n",
      "0.4163580753738333\n",
      "0.4168906576085154\n",
      "0.41542086658373334\n",
      "0.4123003749080545\n",
      "0.4113408729480223\n",
      "0.40881724194250973\n",
      "0.4077043992902306\n",
      "0.40641978757958547\n",
      "0.40546175792576783\n",
      "0.4037809608820017\n",
      "0.4033509002367272\n",
      "0.4058123017662374\n",
      "0.4115769695187463\n",
      "0.4098240049320295\n",
      "0.4087406574809154\n",
      "0.4073786270018211\n",
      "0.4074827926665016\n",
      "0.4042267506653352\n",
      "0.40396537950459444\n",
      "0.402687503594881\n",
      "0.3964116633938936\n",
      "0.39599922134632\n",
      "0.3946374730592501\n",
      "0.3916790700285765\n",
      "0.3879923784596496\n",
      "0.3878404978043988\n",
      "0.3871773710853586\n",
      "0.38386360241136264\n",
      "0.38105164477216447\n",
      "0.38029165257342434\n",
      "0.3771904235707194\n",
      "0.3746151882323864\n",
      "0.3672127270467952\n",
      "0.36611063222988227\n",
      "0.36391896946809893\n",
      "0.3622056589954277\n",
      "0.3607001031988502\n",
      "0.35771602069395086\n",
      "0.35497074625705405\n",
      "0.35388364442509285\n",
      "0.35281659049608666\n",
      "0.35157265124461895\n",
      "0.3487817230458521\n",
      "0.3459081739300112\n",
      "0.3450746032281982\n",
      "0.3448100543398777\n",
      "0.343489297511665\n",
      "0.34090025930257045\n",
      "0.3383302138436438\n",
      "0.33718359403295883\n",
      "0.33495024046686633\n",
      "0.33219853695949925\n",
      "0.32951516072970644\n",
      "0.32646314356222333\n",
      "0.3237718904941826\n",
      "0.3219725850693623\n",
      "0.3202233257866189\n",
      "0.3175352504461579\n",
      "0.3147524935468819\n",
      "0.3128372930845385\n",
      "0.3108745739391199\n",
      "0.3078741733736758\n",
      "0.30517308039243435\n",
      "0.304124503906421\n",
      "0.30035330196077814\n",
      "0.29867792791156894\n",
      "0.29619927586091144\n",
      "0.29334032711503166\n",
      "0.2919624938825677\n",
      "0.2899331038040663\n",
      "0.2864556146790107\n",
      "0.28342229580045264\n",
      "0.28141553016078175\n",
      "0.2794470076750341\n",
      "0.276606855371827\n",
      "0.27401719143259123\n",
      "0.2706367763639494\n",
      "0.2691683962992896\n",
      "0.2674015552265005\n",
      "0.2649891692247169\n",
      "0.2633943548638813\n",
      "0.2595614264801928\n",
      "0.2582600795555755\n",
      "0.2551847876806838\n",
      "0.25311823413948314\n",
      "0.2509468278573684\n",
      "0.24994784355234895\n",
      "0.24790531314088254\n",
      "0.24390551111699155\n",
      "0.24178646985924157\n",
      "0.23878870717576522\n",
      "0.2361660881157601\n",
      "0.2346682987344644\n",
      "0.23167745589019653\n",
      "0.22735939033959035\n",
      "0.22500244893600357\n",
      "0.22464340252714493\n",
      "0.22071468835498054\n",
      "0.21812301226391817\n",
      "0.21568434559620453\n",
      "0.2107817867476344\n",
      "0.20993469536708423\n",
      "0.2061722536434181\n",
      "0.20318450264220075\n",
      "0.20022663945713917\n",
      "0.19675313782808143\n",
      "0.1949527527120372\n",
      "0.19192515128927898\n",
      "0.18641461585862257\n",
      "0.18428488811159854\n",
      "0.18036673773652362\n",
      "0.17610372416912368\n",
      "0.17133904679754758\n",
      "0.166398539256297\n",
      "0.16330253694065378\n",
      "0.16210255829890924\n",
      "0.15952340907988916\n",
      "0.15941521911155554\n",
      "0.15631264049482052\n",
      "0.15401380610983523\n",
      "0.15216222154517944\n",
      "0.15129311918672156\n",
      "0.14946604852053835\n",
      "0.14813386904994433\n",
      "0.14625869077820017\n",
      "0.14252828398391926\n",
      "0.13995453322101925\n",
      "0.13868041169215292\n",
      "0.13729089816372006\n",
      "0.13698377508736173\n",
      "0.13322540674422254\n",
      "0.13214835340217576\n",
      "0.12978905630864562\n",
      "0.12510155232114964\n",
      "0.12186110449663914\n",
      "0.11963527196145937\n",
      "0.11765116756827429\n",
      "0.11721298470038277\n",
      "0.11374278349108932\n",
      "0.11121929971619829\n",
      "0.11066516046469127\n",
      "0.10959606984542161\n",
      "0.10674563593714945\n",
      "0.10642899194727026\n",
      "0.1054190634993892\n",
      "0.10337520801232969\n",
      "0.09881340216790221\n",
      "0.09554015872246224\n",
      "0.09360482447263466\n",
      "0.09203468351011151\n",
      "0.08735726482018527\n",
      "0.08507146034519888\n",
      "0.08370992063484274\n",
      "0.08284548057939765\n",
      "0.07879739918088735\n",
      "0.07594397158331223\n",
      "0.07330459277089797\n",
      "0.07261095250556092\n",
      "0.07187075055618823\n",
      "0.06961464985908068\n",
      "0.06819890474159163\n",
      "0.06754358124548863\n",
      "0.06659616446563434\n",
      "0.06228338694818207\n",
      "0.0589570545944886\n",
      "0.05518187742206642\n",
      "0.05274160348673522\n",
      "0.05198157448033972\n",
      "0.05026908604530504\n",
      "0.04939762799690386\n",
      "0.0485956750710486\n",
      "0.04797636173111018\n",
      "0.04757694959353553\n",
      "0.04559231762395691\n",
      "0.04411583987511704\n",
      "0.04385852982568485\n",
      "0.03961632485278412\n",
      "0.037800860867259055\n",
      "0.03070301983746131\n",
      "0.025219660725682057\n",
      "0.02253557288121884\n",
      "0.01985638045491906\n",
      "0.019558201638814228\n",
      "0.016713632416963397\n",
      "0.015333836109546644\n",
      "0.011014261445070513\n",
      "0.0070146189210194086\n",
      "0.004750997192999125\n",
      "0.0032777462486128415\n",
      "0.0010728081924614391\n",
      "0.00024798544340661025\n",
      "-0.0005524092917048901\n",
      "-0.0011787774322547747\n",
      "-0.0015591600120061667\n",
      "-0.0033822431821916125\n",
      "-0.004130321969812226\n",
      "-0.005202283586200289\n",
      "Max Mod: 0.4185044892579557\n",
      "Best Partition: ({1, 3, 7, 8, 14, 22, 25, 27, 28, 31, 33, 34, 35, 37, 39, 40, 42, 43, 44, 59, 60, 198, 105, 106, 107, 113, 123, 124}, {2, 131, 4, 5, 132, 133, 136, 10, 11, 140, 13, 15, 16, 17, 18, 19, 20, 21, 148, 24, 26, 29, 160, 32, 162, 36, 170, 45, 46, 49, 50, 51, 52, 53, 54, 179, 61, 62, 189, 67, 68, 69, 70, 199, 200, 201, 73, 204, 211, 215, 89, 97, 98, 99, 100, 101, 102, 103, 104, 114, 115, 116, 117, 118, 119, 120, 121, 127}, {9, 6, 191}, {129, 130, 137, 108, 12, 109, 110, 111, 112, 206, 207, 23, 213, 87, 217}, {30, 38, 41, 65, 66, 71, 72, 74, 75, 76, 77, 78, 79, 80, 81, 82, 83, 84, 85, 86, 88, 122, 125, 126, 128, 134, 135, 138, 139, 141, 142, 143, 144, 145, 149, 150, 151, 152, 153, 154, 156, 157, 158, 161, 164, 165, 166, 167, 168, 169, 172, 173, 174, 175, 176, 178, 180, 181, 182, 183, 184, 185, 186, 187, 188, 190, 193, 194, 195, 196, 202, 205, 209, 210, 212, 214, 216}, {96, 163, 47, 48, 177, 147, 90, 92, 93, 94, 95}, {64, 146, 55, 56, 57, 58, 63}, {91}, {155}, {159}, {171}, {192}, {197}, {203}, {208})\n"
     ]
    }
   ],
   "source": [
    "\n",
    "communities = nx.algorithms.community.centrality.girvan_newman(G)\n",
    "max_modularity = 0\n",
    "for x in communities:\n",
    "   modularity_of_x = nx.algorithms.community.quality.modularity(G,x, weight='weight')\n",
    "   if modularity_of_x >= max_modularity:\n",
    "      max_modularity = modularity_of_x\n",
    "      best_partition = x\n",
    "   print(modularity_of_x)\n",
    "print ('Max Mod:', max_modularity)\n",
    "print ('Best Partition:', best_partition)   \n"
   ]
  },
  {
   "cell_type": "code",
   "execution_count": null,
   "metadata": {
    "id": "DrS54yhd6lGI"
   },
   "outputs": [],
   "source": [
    "\n",
    "node_groups = []\n",
    "k = 2\n",
    "\n",
    "for com in itertools.islice(communities, k):\n",
    "  node_groups.append(list(com))\n",
    "\n",
    "\n",
    "color_map = []\n",
    "\n",
    "\n",
    "for node in G:\n",
    "  if node in node_groups[0]:\n",
    "    color_map.append('blue')\n",
    "  else: \n",
    "    color_map.append('green')  \n",
    "\n",
    "plt.figure(5, figsize=(50, 50))\n",
    "nx.draw(G, node_color=color_map, with_labels=True)\n",
    "plt.show()"
   ]
  },
  {
   "cell_type": "code",
   "execution_count": null,
   "metadata": {
    "id": "si5RBSmaQMwe"
   },
   "outputs": [],
   "source": [
    "partition1 = node_groups[0]\n",
    "partition2 = node_groups[1]\n",
    "\n",
    "is_part1 = nx.community.is_partition(G, partition1)\n",
    "is_part2 = nx.community.is_partition(G, partition2)\n",
    "\n",
    "print(partition1)\n",
    "print(partition2)"
   ]
  },
  {
   "cell_type": "code",
   "execution_count": null,
   "metadata": {
    "id": "UiHKf5lKbSOU"
   },
   "outputs": [],
   "source": [
    "!pip install python-louvain"
   ]
  },
  {
   "cell_type": "code",
   "execution_count": null,
   "metadata": {
    "id": "SmK7tsc6iljN"
   },
   "outputs": [],
   "source": [
    "\n",
    "import community\n",
    "import matplotlib.cm as cm\n",
    "\n",
    "# compute the best partition\n",
    "partition_louvain = community.best_partition(G.to_undirected())\n",
    "\n",
    "# draw the graph\n",
    "pos_louvain = nx.spring_layout(G)\n",
    "# color the nodes according to their partition\n",
    "cmap_louvain = cm.get_cmap('viridis', max(partition_louvain.values()) + 1)\n",
    "\n",
    "plt.figure(6, figsize=(50, 50))\n",
    "nx.draw_networkx_nodes(G, pos_louvain, partition_louvain.keys(), node_size=500, cmap=cmap_louvain, node_color=list(partition_louvain.values()))\n",
    "nx.draw_networkx_edges(G, pos_louvain, alpha=0.5)\n",
    "plt.show()"
   ]
  }
 ],
 "metadata": {
  "interpreter": {
   "hash": "f8ae09881bbebee938be0caa45ef175a1c6065d325cf171942f9a51ab4cc4cd6"
  },
  "kernelspec": {
   "display_name": "Python 3.8.12 64-bit ('base': conda)",
   "name": "python3"
  },
  "language_info": {
   "codemirror_mode": {
    "name": "ipython",
    "version": 3
   },
   "file_extension": ".py",
   "mimetype": "text/x-python",
   "name": "python",
   "nbconvert_exporter": "python",
   "pygments_lexer": "ipython3",
   "version": "3.8.8"
  }
 },
 "nbformat": 4,
 "nbformat_minor": 1
}
